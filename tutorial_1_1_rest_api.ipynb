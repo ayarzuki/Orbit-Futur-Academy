{
  "nbformat": 4,
  "nbformat_minor": 0,
  "metadata": {
    "interpreter": {
      "hash": "7cbdf02a766164782f87d87addca37492aa1ee49e6be1c893cfddcfa374bfaf3"
    },
    "kernelspec": {
      "name": "python3",
      "display_name": "Python 3.9.0 64-bit ('.venv': venv)"
    },
    "language_info": {
      "name": "python",
      "version": "3.9.0",
      "mimetype": "text/x-python",
      "codemirror_mode": {
        "name": "ipython",
        "version": 3
      },
      "pygments_lexer": "ipython3",
      "nbconvert_exporter": "python",
      "file_extension": ".py"
    },
    "colab": {
      "name": "tutorial-1-1-rest-api.ipynb",
      "provenance": [],
      "collapsed_sections": [],
      "include_colab_link": true
    }
  },
  "cells": [
    {
      "cell_type": "markdown",
      "metadata": {
        "id": "view-in-github",
        "colab_type": "text"
      },
      "source": [
        "<a href=\"https://colab.research.google.com/github/ayarzuki/Orbit-Futur-Academy/blob/main/tutorial_1_1_rest_api.ipynb\" target=\"_parent\"><img src=\"https://colab.research.google.com/assets/colab-badge.svg\" alt=\"Open In Colab\"/></a>"
      ]
    },
    {
      "cell_type": "markdown",
      "metadata": {
        "id": "l6Jsvi2nsuP7"
      },
      "source": [
        "# Using REST API to Collect Data\n",
        "\n",
        "*by [Vladimir Haltakov](https://twitter.com/haltakov)*\n",
        "\n",
        "Welcome to the first tutorial of my upcoming Machine Learning course! I decided to share this one at a very early stage in order to gather feedback from the community. It still needs quite some polishing, but I wanted to put it out there as fast as possible and get your opinion on the presentation style and the content.\n",
        "\n",
        "I would appreciate if you fill out this short survey (less than 5 minutes) after you complete the tutorial: [https://airtable.com/shr4p4kwKF6mqJl4h](https://airtable.com/shr4p4kwKF6mqJl4h). Feel free to reach out to me on Twitter as well [@haltakov](https://twitter.com/haltakov).\n",
        "\n",
        "Thank you!"
      ]
    },
    {
      "cell_type": "markdown",
      "metadata": {
        "id": "t2omyzuXt0mM"
      },
      "source": [
        "---\n",
        "## Setup\n",
        "\n",
        "Please, execute the cell below to setup your environment."
      ]
    },
    {
      "cell_type": "code",
      "metadata": {
        "cellView": "form",
        "id": "T-0cHETqt1my"
      },
      "source": [
        "# @title Setup Environment\n",
        "\n",
        "# Import packages\n",
        "import os\n",
        "import json\n",
        "from pprint import pprint\n",
        "from IPython.display import Image, YouTubeVideo, HTML\n",
        "from urllib.request import urlopen, Request\n",
        "\n",
        "def show_youtube_video(id):\n",
        "  display(YouTubeVideo(id, 854, 480))\n",
        "  display(HTML(f\"Video available at <a href='https://www.youtube.com/watch?v={id}' target='_blank'>https://www.youtube.com/watch?v={id}</a>\"))"
      ],
      "execution_count": null,
      "outputs": []
    },
    {
      "cell_type": "markdown",
      "metadata": {
        "id": "2GaEicZYsuP-"
      },
      "source": [
        "---\n",
        "## Introduction\n",
        "\n",
        "Using REST APIs to collect data from web services is a common way to build a dataset. In this tutorial, you will learn how to interact with a REST API in Python and how to use it to collect data."
      ]
    },
    {
      "cell_type": "code",
      "metadata": {
        "cellView": "form",
        "id": "SoIwqZ77uJTw"
      },
      "source": [
        "# @title Video 1 - Introduction\n",
        "show_youtube_video(\"6Beo2399xWA\")"
      ],
      "execution_count": null,
      "outputs": []
    },
    {
      "cell_type": "markdown",
      "metadata": {
        "id": "rgRgweETsuP_"
      },
      "source": [
        "## Register for the Unsplash API\n",
        "\n",
        "In order to use the Unsplash API you need to register for a free account and create a demo application.\n",
        "1. Create a free Unsplash account here: [https://unsplash.com/join](https://unsplash.com/join)\n",
        "2. Create a new application here: [https://unsplash.com/oauth/applications](https://unsplash.com/oauth/applications)\n",
        "3. Check out the documentation here: [https://unsplash.com/documentation](https://unsplash.com/documentation)"
      ]
    },
    {
      "cell_type": "code",
      "metadata": {
        "cellView": "form",
        "id": "euG1DWvuwvaG"
      },
      "source": [
        "# @title Video 2 - Register on Unsplash\n",
        "show_youtube_video(\"dYzpGWj57cc\")"
      ],
      "execution_count": null,
      "outputs": []
    },
    {
      "cell_type": "markdown",
      "metadata": {
        "id": "1sWHKbIVsuQA"
      },
      "source": [
        "## Using the Unsplah API in the browser\n",
        "\n",
        "Here is a simple GET request you can try out directly in your browser. Make sure you put in you access key in the URL.\n",
        "\n",
        "`https://api.unsplash.com/search/photos?query=beach&client_id=<YOUR SECRET KEY>`\n",
        "\n",
        "You can also try using [https://reqbin.com/](https://reqbin.com/) to create more complicated requests and inspect the responses in detail."
      ]
    },
    {
      "cell_type": "code",
      "metadata": {
        "id": "y9ILmLVByG75"
      },
      "source": [
        "# @title Video 3 - API requests in the browser\n",
        "show_youtube_video(\"mpj9QgCdDb8\")"
      ],
      "execution_count": null,
      "outputs": []
    },
    {
      "cell_type": "code",
      "metadata": {
        "id": "gw9NG-ZdyHcZ"
      },
      "source": [
        "# @title Video 4 - API requests in reqbin.com\n",
        "show_youtube_video(\"_sy2TUJFBdM\")"
      ],
      "execution_count": null,
      "outputs": []
    },
    {
      "cell_type": "markdown",
      "metadata": {
        "id": "4GOMJtzisuQA"
      },
      "source": [
        "## Handling secrets in Python\n",
        "\n",
        "After you register your demo applciation on Unsplash, you will get 2 keys you need to access the API: an access key and a secret key. But where should we store them?"
      ]
    },
    {
      "cell_type": "code",
      "metadata": {
        "id": "M5qN7rCDz-qg"
      },
      "source": [
        "# @title Video 5 - Handling Secrets\n",
        "\n",
        "show_youtube_video(\"MDdNRPlKaoU\")"
      ],
      "execution_count": null,
      "outputs": []
    },
    {
      "cell_type": "markdown",
      "metadata": {
        "id": "TgOv67X2z_He"
      },
      "source": [
        "It is a bad idea to store keys and passwords together with your code, so we'll use the `dotenv` package for that.\n",
        "\n",
        "You need to create a file called `.env` in the root folder of your project where you can put your keys. After that, you just need to run the code below and you can access your keys like that: `os.environ[\"ACCESS_KEY\"]`.\n",
        "\n",
        "The conten of the `.env` file should look like this:\n",
        "\n",
        "> `ACCESS_KEY=<YOUR ACCESS KEY>`\n",
        "\n",
        "> `SECRET_KEY=<YOUR SECRET KEY>`"
      ]
    },
    {
      "cell_type": "code",
      "metadata": {
        "cellView": "form",
        "id": "3elUXNLm0ARU"
      },
      "source": [
        "# @title Video 6 - Handling Secrets, Good Practices\n",
        "\n",
        "show_youtube_video(\"IPPaklKxC0E\")"
      ],
      "execution_count": null,
      "outputs": []
    },
    {
      "cell_type": "code",
      "metadata": {
        "id": "oub04lWjsuQB"
      },
      "source": [
        "# Load the variables from the .env file\n",
        "from dotenv import load_dotenv\n",
        "\n",
        "load_dotenv(\".env\")"
      ],
      "execution_count": null,
      "outputs": []
    },
    {
      "cell_type": "markdown",
      "metadata": {
        "id": "EQFrcr3vsuQD"
      },
      "source": [
        "## Using the Unsplash API in Python\n",
        "\n",
        "It's now time to automate the usage of the API using Python. Let's start with the same simple GET request we used directly in the browser."
      ]
    },
    {
      "cell_type": "code",
      "metadata": {
        "cellView": "form",
        "id": "2XH1i1FX0c0B"
      },
      "source": [
        "# @title Video 7 - REST API in Python\n",
        "\n",
        "show_youtube_video(\"dIUvzmPu_pA\")"
      ],
      "execution_count": null,
      "outputs": []
    },
    {
      "cell_type": "code",
      "metadata": {
        "id": "ybjxct16suQE"
      },
      "source": [
        "# Create the request URL\n",
        "url = f\"https://api.unsplash.com/search/photos?query=beach&client_id={os.environ['ACCESS_KEY']}\"\n",
        "\n",
        "# Send the request\n",
        "response = urlopen(url)\n",
        "\n",
        "# Check the response code (should be 200)\n",
        "print(\"Response code:\", response.code)"
      ],
      "execution_count": null,
      "outputs": []
    },
    {
      "cell_type": "code",
      "metadata": {
        "id": "DgOo1dYgsuQE"
      },
      "source": [
        "# Fetch the response textand show the beginning\n",
        "response_text = response.read()\n",
        "print(response_text[:300])"
      ],
      "execution_count": null,
      "outputs": []
    },
    {
      "cell_type": "code",
      "metadata": {
        "id": "CJgJ_nKesuQF"
      },
      "source": [
        "# Parse the response as JSON and show the number of photos\n",
        "response_json = json.loads(response_text)\n",
        "print(\"Photos in the response:\", len(response_json[\"results\"]))"
      ],
      "execution_count": null,
      "outputs": []
    },
    {
      "cell_type": "markdown",
      "metadata": {
        "id": "ckkzOt06suQG"
      },
      "source": [
        "## Create a Request with custome headers\n",
        "\n",
        "Now, let's create a more complex Request using custome headers, where we'll put the access key."
      ]
    },
    {
      "cell_type": "code",
      "metadata": {
        "cellView": "form",
        "id": "9d9VvK-y0dvW"
      },
      "source": [
        "# @title Video 8 - Custom request headers\n",
        "\n",
        "show_youtube_video(\"YSrWqwtvFlE\")"
      ],
      "execution_count": null,
      "outputs": []
    },
    {
      "cell_type": "code",
      "metadata": {
        "id": "mz5I7U0ksuQG"
      },
      "source": [
        "# Create the request and add an authentication header\n",
        "request = Request(f\"https://api.unsplash.com/search/photos?query=beach\")\n",
        "request.add_header(\"Authorization\", f\"Client-ID {os.environ['ACCESS_KEY']}\")\n",
        "response = urlopen(request)\n",
        "\n",
        "# Parse the response and show the number of photos\n",
        "response = json.loads(response.read())\n",
        "print(\"Photos in the response:\", len(response_json[\"results\"]))"
      ],
      "execution_count": null,
      "outputs": []
    },
    {
      "cell_type": "markdown",
      "metadata": {
        "id": "RpkpY_S-suQG"
      },
      "source": [
        "## Creating mutliple requests to fetch data for multiple photos\n",
        "\n",
        "Now let's build a more complex script that fetches the information for multiple photos and some related information and visualizes them."
      ]
    },
    {
      "cell_type": "code",
      "metadata": {
        "cellView": "form",
        "id": "Fzw20Km00eYr"
      },
      "source": [
        "# @title Video 9 - Multiple Requests Example\n",
        "\n",
        "show_youtube_video(\"wGPNjnPdsg8\")"
      ],
      "execution_count": null,
      "outputs": []
    },
    {
      "cell_type": "code",
      "metadata": {
        "id": "A41T06c_suQG"
      },
      "source": [
        "# Function that fetches the data for a specified photo\n",
        "def load_photo_data(photo_id):\n",
        "    request = Request(f\"https://api.unsplash.com/photos/{photo_id}\")\n",
        "    request.add_header(\"Authorization\", f\"Client-ID {os.environ['ACCESS_KEY']}\")\n",
        "    response = urlopen(request)\n",
        "    return json.loads(response.read())\n",
        "\n",
        "\n",
        "# Test the function by displaying the information for this photo: https://unsplash.com/photos/i5VhkcMiqHw\n",
        "photo_data = load_photo_data(\"i5VhkcMiqHw\")\n",
        "pprint.pprint(photo_data)"
      ],
      "execution_count": null,
      "outputs": []
    },
    {
      "cell_type": "code",
      "metadata": {
        "id": "5lUlzGE8suQG"
      },
      "source": [
        "# Define the search query\n",
        "search_query = \"beach\"\n",
        "\n",
        "# Build the search request\n",
        "request = Request(f\"https://api.unsplash.com/search/photos?query={search_query}&orientation=landscape\")\n",
        "request.add_header(\"Authorization\", f\"Client-ID {os.environ['ACCESS_KEY']}\")\n",
        "response = urlopen(request)\n",
        "search_results = json.loads(response.read())\n",
        "\n",
        "# Display some statistics about the results\n",
        "print(\"Total photos found:\", search_results[\"total\"])"
      ],
      "execution_count": null,
      "outputs": []
    },
    {
      "cell_type": "code",
      "metadata": {
        "id": "yioA0fK0suQG"
      },
      "source": [
        "# Display each result photo\n",
        "for photo in search_results[\"results\"]:\n",
        "    # Fetch additional photo information\n",
        "    photo_data = load_photo_data(photo[\"id\"])\n",
        "\n",
        "    display(Image(url=photo[\"urls\"][\"small\"]))\n",
        "    print(\"Description:\", photo[\"description\"])\n",
        "    print(\"Photographer:\", photo[\"user\"][\"first_name\"], photo[\"user\"][\"last_name\"])\n",
        "    print(\"Views:\", photo_data[\"views\"])\n",
        "    print(\"Downloads:\", photo_data[\"downloads\"])\n",
        "    print()"
      ],
      "execution_count": null,
      "outputs": []
    },
    {
      "cell_type": "markdown",
      "metadata": {
        "id": "XLLjGGT9suQI"
      },
      "source": [
        "## Writing data in CSV file\n",
        "\n",
        "In machine learning we often work with datasets containing all the required information. A popular way to store data is using CSV files. Let's dump the collected data in a file."
      ]
    },
    {
      "cell_type": "code",
      "metadata": {
        "id": "pzg47nu60fHB"
      },
      "source": [
        "# @title Video 10 - Writing data in CSV file\n",
        "\n",
        "show_youtube_video(\"lYRqEpPZZiA\")"
      ],
      "execution_count": null,
      "outputs": []
    },
    {
      "cell_type": "code",
      "metadata": {
        "id": "fxF3ySjRsuQI"
      },
      "source": [
        "import csv\n",
        "\n",
        "# Define the search query\n",
        "search_query = \"beach\"\n",
        "\n",
        "# Fetch the search results\n",
        "request = Request(f\"https://api.unsplash.com/search/photos?query={search_query}&per_page=30\")\n",
        "request.add_header(\"Authorization\", f\"Client-ID {os.environ['ACCESS_KEY']}\")\n",
        "response = urlopen(request)\n",
        "search_results = json.loads(response.read())\n",
        "\n",
        "# Write the results to photos.csv file\n",
        "with open(\"photos.csv\", \"w\") as csvfile:\n",
        "    csvwriter = csv.writer(csvfile, delimiter=\";\")\n",
        "\n",
        "    # Write the column headers\n",
        "    csvwriter.writerow(\n",
        "        [\n",
        "            \"photo_id\",\n",
        "            \"created_at\",\n",
        "            \"description\",\n",
        "            \"url\",\n",
        "            \"likes\",\n",
        "            \"username\",\n",
        "            \"name\",\n",
        "        ]\n",
        "    )\n",
        "\n",
        "    # Write the data for each photo\n",
        "    for photo_data in search_results[\"results\"]:\n",
        "        csvwriter.writerow(\n",
        "            [\n",
        "                photo_data[\"id\"],\n",
        "                photo_data[\"created_at\"],\n",
        "                photo_data[\"description\"],\n",
        "                photo_data[\"urls\"][\"small\"],\n",
        "                photo_data[\"likes\"],\n",
        "                photo_data[\"user\"][\"username\"],\n",
        "                f\"{photo_data['user']['first_name']} {photo_data['user']['last_name']}\",\n",
        "            ]\n",
        "        )"
      ],
      "execution_count": null,
      "outputs": []
    },
    {
      "cell_type": "markdown",
      "metadata": {
        "id": "_Y8zPnOEsuQI"
      },
      "source": [
        "## EXCERCISE: Fetch photos from multiple pages\n",
        "\n",
        "You may have noticed while playing around with the API that you can't fetch the data of more than 30 photos at once. This limit is posed by the Unsplash API on purpose in order to prevent scraping attempts. You can still download more images, by creating multiple requets - one for each \"page\".\n",
        "\n",
        "Read the chapter on Pagination in the Unsplash [API documentation](https://unsplash.com/documentation#pagination) and write the code to automatically download 100 photos and save the photo ID and URL in a CSV file."
      ]
    },
    {
      "cell_type": "code",
      "metadata": {
        "id": "u8xja5AT0f_T"
      },
      "source": [
        "# @title Video 11 - Handling pages. Exercise\n",
        "\n",
        "show_youtube_video(\"RzDTAnqsSrs\")"
      ],
      "execution_count": null,
      "outputs": []
    },
    {
      "cell_type": "code",
      "metadata": {
        "id": "AhMK50krsuQJ"
      },
      "source": [
        "# Define the search query and number of photos to download\n",
        "search_query = \"beach\"\n",
        "photos_to_download = 100\n",
        "\n",
        "### EXCERCISE ###\n",
        "# TODO Write the code to download more than 30 photos using pages\n",
        "# ..."
      ],
      "execution_count": null,
      "outputs": []
    },
    {
      "cell_type": "markdown",
      "metadata": {
        "id": "RrAA5ZGCsuQJ"
      },
      "source": [
        "## SOLUTION: Fetch photos from multiple pages\n",
        "\n",
        "After trying to write the code youself, you can check out my answer below. Please, really give it a try - this is the best way to learn new things, even if it may be difficult."
      ]
    },
    {
      "cell_type": "code",
      "metadata": {
        "cellView": "form",
        "id": "ImPaszsv0gme"
      },
      "source": [
        "# @title Video 12 - Handling pages. Solution\n",
        "\n",
        "show_youtube_video(\"94ovdEwxnYw\")"
      ],
      "execution_count": null,
      "outputs": []
    },
    {
      "cell_type": "code",
      "metadata": {
        "id": "fLVpQSq3suQJ"
      },
      "source": [
        "import math\n",
        "\n",
        "# Define the search query and number of photos to download\n",
        "search_query = \"beach\"\n",
        "photos_to_download = 100\n",
        "\n",
        "# Calculate the number of pages needed\n",
        "photos_per_page = 30\n",
        "photos_on_last_page = photos_to_download % photos_per_page\n",
        "pages_count = math.ceil(photos_to_download / photos_per_page)\n",
        "\n",
        "# Create the output CSV file\n",
        "with open(\"photos_100.csv\", \"w\") as csvfile:\n",
        "    csvwriter = csv.writer(csvfile, delimiter=\";\")\n",
        "\n",
        "    # Write the column headers\n",
        "    csvwriter.writerow([\n",
        "        \"photo_id\",\n",
        "        \"url\",\n",
        "    ])\n",
        "\n",
        "    # Photos left to download\n",
        "    photos_left = photos_to_download\n",
        "\n",
        "    # Download each page\n",
        "    for page in range(1, pages_count + 1):\n",
        "        # Check if there are more photos to download\n",
        "        if photos_left <= 0:\n",
        "            break\n",
        "\n",
        "        # Request a page\n",
        "        request = Request(f\"https://api.unsplash.com/search/photos?query={search_query}&per_page=30&page={page}\")\n",
        "        request.add_header(\"Authorization\", f\"Client-ID {os.environ['ACCESS_KEY']}\")\n",
        "        print(\"New request:\", request.full_url)\n",
        "\n",
        "        response = urlopen(request)\n",
        "        search_results = json.loads(response.read())\n",
        "\n",
        "        # Check if enough photos are available\n",
        "        total_photos = int(response.headers[\"X-Total\"])\n",
        "        if photos_left > total_photos:\n",
        "            photos_left = total_photos\n",
        "\n",
        "        # Determine how much photos need to be downloaded (handling the last page)\n",
        "        if photos_left > photos_per_page:\n",
        "            results = search_results[\"results\"]\n",
        "        else:\n",
        "            results = search_results[\"results\"][:photos_left]\n",
        "\n",
        "        # Download all photos\n",
        "        for photo_data in results:\n",
        "            csvwriter.writerow([photo_data[\"id\"], photo_data[\"urls\"][\"small\"]])\n",
        "\n",
        "        # Update the photos left to download\n",
        "        photos_left -= photos_per_page"
      ],
      "execution_count": null,
      "outputs": []
    },
    {
      "cell_type": "markdown",
      "metadata": {
        "id": "Lpk7acFG1Hkw"
      },
      "source": [
        "## Conclusion\n",
        "\n",
        "Thank you for taking your time to do this early version of the tutorial. I would appreciate if you fill out this short survey (less than 5 minutes) to tell me what you think about it: [https://airtable.com/shr4p4kwKF6mqJl4h](https://airtable.com/shr4p4kwKF6mqJl4h).\n",
        "\n",
        "Feel free to reach out to me on Twitter as well [@haltakov](https://twitter.com/haltakov)."
      ]
    }
  ]
}