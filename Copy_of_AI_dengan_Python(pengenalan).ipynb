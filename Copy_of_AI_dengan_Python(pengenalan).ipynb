{
  "nbformat": 4,
  "nbformat_minor": 0,
  "metadata": {
    "colab": {
      "name": "Copy of AI_dengan_Python(pengenalan).ipynb",
      "provenance": [],
      "collapsed_sections": [
        "WA8wMETa0VCO",
        "oQtNPAVe4cVH",
        "VncYiRCo8f3m",
        "6NobwuVw-v3k",
        "605babKcSl0c"
      ],
      "include_colab_link": true
    },
    "kernelspec": {
      "name": "python3",
      "display_name": "Python 3"
    },
    "language_info": {
      "name": "python"
    }
  },
  "cells": [
    {
      "cell_type": "markdown",
      "metadata": {
        "id": "view-in-github",
        "colab_type": "text"
      },
      "source": [
        "<a href=\"https://colab.research.google.com/github/ayarzuki/Orbit-Futur-Academy/blob/main/Copy_of_AI_dengan_Python(pengenalan).ipynb\" target=\"_parent\"><img src=\"https://colab.research.google.com/assets/colab-badge.svg\" alt=\"Open In Colab\"/></a>"
      ]
    },
    {
      "cell_type": "markdown",
      "metadata": {
        "id": "F9RmP8oJEr-8"
      },
      "source": [
        "# Pengenalan AI dengan Python\n",
        "Sebelum lanjut, harap:\n",
        "1. Jika menggunakan jupyter, silahkan pilih \"File\" --> \"Download\" --> \"Download .ipynb\"\n",
        "2. Jika menggunakan colab, silahkan pilih \"File\" --> \"Save a copy in drive\""
      ]
    },
    {
      "cell_type": "markdown",
      "metadata": {
        "id": "ttcCioV2TWeK"
      },
      "source": [
        "Materi : \n",
        "1. Reading & Writing File\n",
        "2. Operasi Matematika & Numpy\n",
        "3. Pandas & Statistik Deskriptif\n",
        "4. Library untuk Visualisasi"
      ]
    },
    {
      "cell_type": "markdown",
      "metadata": {
        "id": "WZgEMeZ7JLNm"
      },
      "source": [
        "## Reading & Writing File"
      ]
    },
    {
      "cell_type": "markdown",
      "metadata": {
        "id": "Fnd29cqZ4uTK"
      },
      "source": [
        "### Fungsi 'open'\n",
        "1. Struktur menggunakan \"with\"\n",
        "<img src=\"https://s3-api.us-geo.objectstorage.softlayer.net/cf-courses-data/CognitiveClass/PY0101EN/Chapter%204/Images/ReadWith.png\" width=\"500\" />\n",
        "\n",
        "2. Struktur menggunakan \"file object\"\n",
        "<img src=\"https://s3-api.us-geo.objectstorage.softlayer.net/cf-courses-data/CognitiveClass/PY0101EN/Chapter%204/Images/ReadOpen.png\" width=\"500\" />\n",
        "\n",
        "Keterangan mode:\n",
        "*   Read (kode: **r**) – membaca sebuah file (**r+** artinya sekaligus menulis)\n",
        "*   Write (kode: **w**) – menulis sebuah file (**w+** artinya sekaligus membaca)\n",
        "*   Append (kode: **a**) – menambah isi sebuah file (**a+** artinya sekaligus membaca)\n"
      ]
    },
    {
      "cell_type": "code",
      "metadata": {
        "id": "O1tkv-JEnLlu"
      },
      "source": [
        "import os\n",
        "#Menambah folder 'latihan' \n",
        "os.makedirs('latihan')"
      ],
      "execution_count": 2,
      "outputs": []
    },
    {
      "cell_type": "code",
      "metadata": {
        "id": "lSms7K9V95BU"
      },
      "source": [
        "#Menulis file baru\n",
        "with open('latihan/contoh.txt', 'w') as c:\n",
        "  c.write('saya keren.')                    #hanya bisa menulis karena modenya \"w\" bukan \"w+\""
      ],
      "execution_count": 3,
      "outputs": []
    },
    {
      "cell_type": "code",
      "metadata": {
        "colab": {
          "base_uri": "https://localhost:8080/",
          "height": 53
        },
        "id": "XOHOWBbZ93KA",
        "outputId": "46e76967-0f6c-43a9-bd13-2ff8dd1dca54"
      },
      "source": [
        "#Membaca file dengan \"with\"\n",
        "with open('latihan/contoh.txt', 'r') as c:\n",
        "    print(c.read())\n",
        "\n",
        "#Membaca file dengan \"file object\"\n",
        "file = open('latihan/contoh.txt', 'r')\n",
        "file.read()"
      ],
      "execution_count": 3,
      "outputs": [
        {
          "output_type": "stream",
          "name": "stdout",
          "text": [
            "saya keren.\n"
          ]
        },
        {
          "output_type": "execute_result",
          "data": {
            "application/vnd.google.colaboratory.intrinsic+json": {
              "type": "string"
            },
            "text/plain": [
              "'saya keren.'"
            ]
          },
          "metadata": {},
          "execution_count": 3
        }
      ]
    },
    {
      "cell_type": "markdown",
      "metadata": {
        "id": "YfCzYjMsHsPQ"
      },
      "source": [
        "### Membedakan \"write\" dan \"append\""
      ]
    },
    {
      "cell_type": "code",
      "metadata": {
        "colab": {
          "base_uri": "https://localhost:8080/",
          "height": 35
        },
        "id": "CyviqdwBFkP-",
        "outputId": "e1ac9947-1637-4b3f-cb23-f96976b03ff0"
      },
      "source": [
        "#Append\n",
        "file = open('latihan/contoh.txt', 'a+')\n",
        "file.write(' belajar AI menyenangkan.')\n",
        "file.seek(0)                          #seek(0) artinya mulai dari huruf yang pertama (index 0)\n",
        "file.read()                           #bisa sekaligus read karena modenya \"a+\""
      ],
      "execution_count": 4,
      "outputs": [
        {
          "output_type": "execute_result",
          "data": {
            "application/vnd.google.colaboratory.intrinsic+json": {
              "type": "string"
            },
            "text/plain": [
              "'saya keren. belajar AI menyenangkan.'"
            ]
          },
          "metadata": {},
          "execution_count": 4
        }
      ]
    },
    {
      "cell_type": "code",
      "metadata": {
        "colab": {
          "base_uri": "https://localhost:8080/",
          "height": 35
        },
        "id": "gOFk_bC0IA3F",
        "outputId": "9e7878d3-57ed-41c3-f2c6-f460165879b5"
      },
      "source": [
        "#Write\n",
        "file = open('latihan/contoh.txt', 'w+')\n",
        "file.write(' belajar AI menyenangkan.')\n",
        "file.seek(0)                          #seek(0) artinya mulai dari huruf yang pertama (index 0)\n",
        "file.read()                           #bisa sekaligus read karena modenya \"w+\""
      ],
      "execution_count": 6,
      "outputs": [
        {
          "output_type": "execute_result",
          "data": {
            "application/vnd.google.colaboratory.intrinsic+json": {
              "type": "string"
            },
            "text/plain": [
              "' belajar AI menyenangkan.'"
            ]
          },
          "metadata": {},
          "execution_count": 6
        }
      ]
    },
    {
      "cell_type": "markdown",
      "metadata": {
        "id": "ZmKKOMhFIIR_"
      },
      "source": [
        "Bisa kah kamu melihat perbedaannya?"
      ]
    },
    {
      "cell_type": "code",
      "metadata": {
        "colab": {
          "base_uri": "https://localhost:8080/"
        },
        "id": "7dOhVBlg-acT",
        "outputId": "4af4d078-31f7-4108-a7d6-d5afe8f899c8"
      },
      "source": [
        "#Mengetahui nama file dan lokasinya\n",
        "print(file.name)\n",
        "\n",
        "#Mengetahui mode dari file\n",
        "print(file.mode)"
      ],
      "execution_count": 7,
      "outputs": [
        {
          "output_type": "stream",
          "name": "stdout",
          "text": [
            "latihan/contoh.txt\n",
            "w+\n"
          ]
        }
      ]
    },
    {
      "cell_type": "markdown",
      "metadata": {
        "id": "oREZu1YaJe4l"
      },
      "source": [
        "### Latihan 1 (menulis file)\n",
        "\n",
        "Buat file baru di folder \"latihan\", namanya \"kata bung karno.txt\". Isinya : \"Bermimpilah setinggi langit. Jika engkau jatuh, kau kan jatuh di antara bintang-bintang. \""
      ]
    },
    {
      "cell_type": "code",
      "metadata": {
        "id": "uxPw2hOfLyN4"
      },
      "source": [
        "#Tulis jawabanmu disini\n",
        "\n",
        "#Menulis file baru\n",
        "with open('latihan/bung karno.txt', 'w') as c:\n",
        "  c.write('\"Bermimpilah setinggi langit. Jika engkau jatuh, kau kan jatuh di antara bintang-bintang.') "
      ],
      "execution_count": 8,
      "outputs": []
    },
    {
      "cell_type": "markdown",
      "metadata": {
        "id": "-RX-DtsEFC5r"
      },
      "source": [
        "## Operasi Matematika & Numpy\n",
        "Numpy → library untuk membantu operasi matematika di python.\n"
      ]
    },
    {
      "cell_type": "code",
      "metadata": {
        "id": "DBVuNosPErdc"
      },
      "source": [
        "import numpy as np"
      ],
      "execution_count": 2,
      "outputs": []
    },
    {
      "cell_type": "markdown",
      "metadata": {
        "id": "GWGWrUU_QOR6"
      },
      "source": [
        "### Pengenalan array"
      ]
    },
    {
      "cell_type": "code",
      "metadata": {
        "colab": {
          "base_uri": "https://localhost:8080/"
        },
        "id": "rojHc0kGGJVw",
        "outputId": "51f4f863-cc69-4b07-ef6d-a1c253e055d8"
      },
      "source": [
        "#1D array\n",
        "a = np.array([3, 1, 5, 6])\n",
        "print('banyaknya entry = ', a.size)\n",
        "print('dimensi array = ', a.ndim)\n",
        "print('ukuran array = ', a.shape)"
      ],
      "execution_count": 10,
      "outputs": [
        {
          "output_type": "stream",
          "name": "stdout",
          "text": [
            "banyaknya entry =  4\n",
            "dimensi array =  1\n",
            "ukuran array =  (4,)\n"
          ]
        }
      ]
    },
    {
      "cell_type": "code",
      "metadata": {
        "colab": {
          "base_uri": "https://localhost:8080/"
        },
        "id": "Ay-3fo-sIOqV",
        "outputId": "883c68ea-f132-47ae-de09-f0e3690fe02e"
      },
      "source": [
        "#Slicing\n",
        "a[1:]"
      ],
      "execution_count": 11,
      "outputs": [
        {
          "output_type": "execute_result",
          "data": {
            "text/plain": [
              "array([1, 5, 6])"
            ]
          },
          "metadata": {},
          "execution_count": 11
        }
      ]
    },
    {
      "cell_type": "code",
      "metadata": {
        "colab": {
          "base_uri": "https://localhost:8080/"
        },
        "id": "kfeTP-8qHBVx",
        "outputId": "e17950d7-310f-48f0-9aa9-aa6309f0403f"
      },
      "source": [
        "print('a[1:3] = ', a[1:3])\n",
        "print('a[:3] = ', a[:3])"
      ],
      "execution_count": 12,
      "outputs": [
        {
          "output_type": "stream",
          "name": "stdout",
          "text": [
            "a[1:3] =  [1 5]\n",
            "a[:3] =  [3 1 5]\n"
          ]
        }
      ]
    },
    {
      "cell_type": "markdown",
      "metadata": {
        "id": "7LxTP-IdLaSa"
      },
      "source": [
        "###Latihan-2 (2D array)"
      ]
    },
    {
      "cell_type": "code",
      "metadata": {
        "colab": {
          "base_uri": "https://localhost:8080/"
        },
        "id": "myrQM61bHn2t",
        "outputId": "3c000e20-e196-48c9-f8d1-2c013d4a1443"
      },
      "source": [
        "#2D Array (Matriks)\n",
        "A = np.array([[1, 2, 3], [4, 5, 6], [7, 8, 9]])\n",
        "print(A)"
      ],
      "execution_count": 6,
      "outputs": [
        {
          "output_type": "stream",
          "name": "stdout",
          "text": [
            "[[1 2 3]\n",
            " [4 5 6]\n",
            " [7 8 9]]\n"
          ]
        }
      ]
    },
    {
      "cell_type": "code",
      "metadata": {
        "colab": {
          "base_uri": "https://localhost:8080/"
        },
        "id": "2ncKwccePLyf",
        "outputId": "269cc4cf-9f56-45aa-c924-4922596f62b3"
      },
      "source": [
        "#Lengkapi kodingan berikut\n",
        "print('banyaknya entry = ', A.size)\n",
        "print('dimensi array = ', A.ndim)\n",
        "print('ukuran array = ', A.shape)"
      ],
      "execution_count": 7,
      "outputs": [
        {
          "output_type": "stream",
          "name": "stdout",
          "text": [
            "banyaknya entry =  9\n",
            "dimensi array =  2\n",
            "ukuran array =  (3, 3)\n"
          ]
        }
      ]
    },
    {
      "cell_type": "code",
      "metadata": {
        "colab": {
          "base_uri": "https://localhost:8080/"
        },
        "id": "LAmNOJZYGrNY",
        "outputId": "b1c43191-019f-44f0-954b-76cdaba2d3bc"
      },
      "source": [
        "#Slicing\n",
        "print('baris ke-2 = ', A[1])\n",
        "print('entry ke-2 & 3 baris ke-2 = ', A[1, 1:])\n",
        "print('entry pertama & 2 kolom ke-2 = ', A[:2, 1])"
      ],
      "execution_count": 17,
      "outputs": [
        {
          "output_type": "stream",
          "name": "stdout",
          "text": [
            "baris ke-2 =  [4 5 6]\n",
            "entry ke-2 & 3 baris ke-2 =  [5 6]\n",
            "entry pertama & 2 kolom ke-2 =  [2 5]\n"
          ]
        }
      ]
    },
    {
      "cell_type": "markdown",
      "metadata": {
        "id": "dabJyOB3L6Kb"
      },
      "source": [
        "###Latihan-3 (Slicing)"
      ]
    },
    {
      "cell_type": "code",
      "metadata": {
        "colab": {
          "base_uri": "https://localhost:8080/"
        },
        "id": "zm20sFkSNbds",
        "outputId": "9d36a6fe-fdcd-441d-a951-497de7430148"
      },
      "source": [
        "#Lengkapi kodingan berikut\n",
        "print('baris ke-3 = ', A[2])\n",
        "print('entry ke-1 & 2 baris ke-3 = ', A[2, :2])\n",
        "print('entry ke-2 & 3 kolom ke-3 = ', A[2, 1:])"
      ],
      "execution_count": 14,
      "outputs": [
        {
          "output_type": "stream",
          "name": "stdout",
          "text": [
            "baris ke-3 =  [7 8 9]\n",
            "entry ke-1 & 2 baris ke-3 =  [7 8]\n",
            "entry ke-2 & 3 kolom ke-3 =  [8 9]\n"
          ]
        }
      ]
    },
    {
      "cell_type": "markdown",
      "metadata": {
        "id": "u69Wt0HHOdDh"
      },
      "source": [
        "output jawaban:\n",
        "baris ke-3 =  [7 8 9]\n",
        "\n",
        "entry ke-1 & 2 baris ke-3 =  [7 8]\n",
        "\n",
        "entry ke-2 & 3 kolom ke-3 =  [6 9]"
      ]
    },
    {
      "cell_type": "markdown",
      "metadata": {
        "id": "bQ9RSERjQYu-"
      },
      "source": [
        "### Operasi Matematika di Numpy"
      ]
    },
    {
      "cell_type": "code",
      "metadata": {
        "colab": {
          "base_uri": "https://localhost:8080/"
        },
        "id": "A7ITbltnVKCK",
        "outputId": "81edfa97-83b3-4d05-d3eb-5e15920c2fd5"
      },
      "source": [
        "C = A*A\n",
        "print('perkalian antar entry = ')\n",
        "print(C)"
      ],
      "execution_count": 15,
      "outputs": [
        {
          "output_type": "stream",
          "name": "stdout",
          "text": [
            "perkalian antar entry = \n",
            "[[ 1  4  9]\n",
            " [16 25 36]\n",
            " [49 64 81]]\n"
          ]
        }
      ]
    },
    {
      "cell_type": "code",
      "metadata": {
        "colab": {
          "base_uri": "https://localhost:8080/"
        },
        "id": "qs72ZsAJQERO",
        "outputId": "3ace676b-8617-40f9-9175-e13f0f353903"
      },
      "source": [
        "print('perkalian matriks = ')\n",
        "print(np.matmul(A,A))"
      ],
      "execution_count": 16,
      "outputs": [
        {
          "output_type": "stream",
          "name": "stdout",
          "text": [
            "perkalian matriks = \n",
            "[[ 30  36  42]\n",
            " [ 66  81  96]\n",
            " [102 126 150]]\n"
          ]
        }
      ]
    },
    {
      "cell_type": "markdown",
      "metadata": {
        "id": "DqYW2wD_8HZT"
      },
      "source": [
        "Bisa dilihat perbedaan perkalian antar entry dan perkalian matriks biasa?"
      ]
    },
    {
      "cell_type": "code",
      "metadata": {
        "colab": {
          "base_uri": "https://localhost:8080/"
        },
        "id": "_esB0rtlQkOp",
        "outputId": "637a8203-9149-4a3f-cad3-71460f85c7d0"
      },
      "source": [
        "print('determinan matriks A = ', np.linalg.det(A))\n",
        "print('determinan matriks C = ', np.linalg.det(C))"
      ],
      "execution_count": 17,
      "outputs": [
        {
          "output_type": "stream",
          "name": "stdout",
          "text": [
            "determinan matriks A =  0.0\n",
            "determinan matriks C =  -216.00000000000006\n"
          ]
        }
      ]
    },
    {
      "cell_type": "code",
      "metadata": {
        "id": "Joz3Z61TQd6V",
        "colab": {
          "base_uri": "https://localhost:8080/"
        },
        "outputId": "56a71c0c-fad0-4c2b-e32f-27760892e0d8"
      },
      "source": [
        "print('nilai dan vektor eigen matriks A = ', np.linalg.eig(A))"
      ],
      "execution_count": 18,
      "outputs": [
        {
          "output_type": "stream",
          "name": "stdout",
          "text": [
            "nilai dan vektor eigen matriks A =  (array([ 1.61168440e+01, -1.11684397e+00, -9.75918483e-16]), array([[-0.23197069, -0.78583024,  0.40824829],\n",
            "       [-0.52532209, -0.08675134, -0.81649658],\n",
            "       [-0.8186735 ,  0.61232756,  0.40824829]]))\n"
          ]
        }
      ]
    },
    {
      "cell_type": "code",
      "metadata": {
        "colab": {
          "base_uri": "https://localhost:8080/"
        },
        "id": "mJnSQRSmu8L7",
        "outputId": "ad6f1ebc-775f-442e-a634-4e7f4f42f35f"
      },
      "source": [
        "print((A)[0])"
      ],
      "execution_count": 23,
      "outputs": [
        {
          "output_type": "stream",
          "name": "stdout",
          "text": [
            "[1 2 3]\n"
          ]
        }
      ]
    },
    {
      "cell_type": "code",
      "metadata": {
        "colab": {
          "base_uri": "https://localhost:8080/"
        },
        "id": "YIXOE54OQWWd",
        "outputId": "00dec269-6a30-4264-ffd8-08af3eafe1e4"
      },
      "source": [
        "print('nilai eigen matriks A = ', np.linalg.eig(A)[0])"
      ],
      "execution_count": 19,
      "outputs": [
        {
          "output_type": "stream",
          "name": "stdout",
          "text": [
            "nilai eigen matriks A =  [ 1.61168440e+01 -1.11684397e+00 -9.75918483e-16]\n"
          ]
        }
      ]
    },
    {
      "cell_type": "code",
      "metadata": {
        "colab": {
          "base_uri": "https://localhost:8080/"
        },
        "id": "4Du7aiFRvK7T",
        "outputId": "9d6f51cf-1222-465f-e9a8-1c03d9f3be53"
      },
      "source": [
        "print((A)[1])"
      ],
      "execution_count": 24,
      "outputs": [
        {
          "output_type": "stream",
          "name": "stdout",
          "text": [
            "[4 5 6]\n"
          ]
        }
      ]
    },
    {
      "cell_type": "code",
      "metadata": {
        "colab": {
          "base_uri": "https://localhost:8080/"
        },
        "id": "FjdAWfgKQaf1",
        "outputId": "829f6468-36da-4046-d4d9-0a67444c413f"
      },
      "source": [
        "print('vektor eigen matriks A = ', np.linalg.eig(A)[1])"
      ],
      "execution_count": 25,
      "outputs": [
        {
          "output_type": "stream",
          "name": "stdout",
          "text": [
            "vektor eigen matriks A =  [[-0.23197069 -0.78583024  0.40824829]\n",
            " [-0.52532209 -0.08675134 -0.81649658]\n",
            " [-0.8186735   0.61232756  0.40824829]]\n"
          ]
        }
      ]
    },
    {
      "cell_type": "markdown",
      "metadata": {
        "id": "kjS8YZLAMXB_"
      },
      "source": [
        "### Latihan-4 (Operasi matriks)"
      ]
    },
    {
      "cell_type": "code",
      "metadata": {
        "id": "RIH4ROFmGuip"
      },
      "source": [
        "A = np.array([[1, 2], [7,8]])\n",
        "B = np.array([[3, 5], [1,6]])"
      ],
      "execution_count": 26,
      "outputs": []
    },
    {
      "cell_type": "code",
      "metadata": {
        "colab": {
          "base_uri": "https://localhost:8080/"
        },
        "id": "Pt5GdS7MvRTV",
        "outputId": "57c9118c-1442-4f21-f1a7-dace7bf036c2"
      },
      "source": [
        "print(A)\n",
        "print(B)"
      ],
      "execution_count": 27,
      "outputs": [
        {
          "output_type": "stream",
          "name": "stdout",
          "text": [
            "[[1 2]\n",
            " [7 8]]\n",
            "[[3 5]\n",
            " [1 6]]\n"
          ]
        }
      ]
    },
    {
      "cell_type": "markdown",
      "metadata": {
        "id": "dj6lY65jLBqx"
      },
      "source": [
        "Hitunglah:\n",
        "*   2*A\n",
        "*   2+A\n",
        "*   A+B\n",
        "*   A-B\n",
        "*   determinan A\n",
        "*   invers dari B, simpan jadi matriks D\n",
        "*   transpose D\n",
        "*   nilai eigen dan vektor eigen dari A dan B\n",
        "\n",
        "\n",
        "\n",
        "\n",
        "\n"
      ]
    },
    {
      "cell_type": "code",
      "metadata": {
        "id": "zkywTKVELriJ",
        "colab": {
          "base_uri": "https://localhost:8080/"
        },
        "outputId": "59a78b7e-03fd-4b11-93ad-4cedbf705b61"
      },
      "source": [
        "#Ketik Kode disini\n",
        "#2*A\n",
        "print(2*A)"
      ],
      "execution_count": 29,
      "outputs": [
        {
          "output_type": "stream",
          "name": "stdout",
          "text": [
            "[[ 2  4]\n",
            " [14 16]]\n"
          ]
        }
      ]
    },
    {
      "cell_type": "code",
      "metadata": {
        "colab": {
          "base_uri": "https://localhost:8080/"
        },
        "id": "kIrETsLMvqyL",
        "outputId": "a0e232ff-312f-46bc-b1ab-d454bbe2a286"
      },
      "source": [
        "#matriks 2x2 berisi nilai 2\n",
        "#2+A\n",
        "matriks2 = np.array([[2, 2], [2,2]])\n",
        "print(matriks2+A)"
      ],
      "execution_count": 31,
      "outputs": [
        {
          "output_type": "stream",
          "name": "stdout",
          "text": [
            "[[ 3  4]\n",
            " [ 9 10]]\n"
          ]
        }
      ]
    },
    {
      "cell_type": "code",
      "metadata": {
        "colab": {
          "base_uri": "https://localhost:8080/"
        },
        "id": "kxd8OgetwBDf",
        "outputId": "ef296ce4-19e8-40e1-b36e-c15fb255c842"
      },
      "source": [
        "#A+B\n",
        "print(A+B)"
      ],
      "execution_count": 32,
      "outputs": [
        {
          "output_type": "stream",
          "name": "stdout",
          "text": [
            "[[ 4  7]\n",
            " [ 8 14]]\n"
          ]
        }
      ]
    },
    {
      "cell_type": "code",
      "metadata": {
        "colab": {
          "base_uri": "https://localhost:8080/"
        },
        "id": "syW3JURVwPL3",
        "outputId": "0492ae8f-d702-4e91-af6d-cd1cd4127c3e"
      },
      "source": [
        "#A-B\n",
        "print(A-B)"
      ],
      "execution_count": 33,
      "outputs": [
        {
          "output_type": "stream",
          "name": "stdout",
          "text": [
            "[[-2 -3]\n",
            " [ 6  2]]\n"
          ]
        }
      ]
    },
    {
      "cell_type": "code",
      "metadata": {
        "colab": {
          "base_uri": "https://localhost:8080/"
        },
        "id": "BmED_h0bwbt7",
        "outputId": "0dbd70d2-52e9-4c11-bd01-30e2570ce4f0"
      },
      "source": [
        "#determinan A\n",
        "print('determinan matriks A = ', np.linalg.det(A))"
      ],
      "execution_count": 34,
      "outputs": [
        {
          "output_type": "stream",
          "name": "stdout",
          "text": [
            "determinan matriks A =  -6.0\n"
          ]
        }
      ]
    },
    {
      "cell_type": "code",
      "metadata": {
        "colab": {
          "base_uri": "https://localhost:8080/"
        },
        "id": "g0bTQn3wwjYU",
        "outputId": "fe771fef-5e55-4538-f7f7-935e713c75db"
      },
      "source": [
        "#invers dari B, simpan jadi matriks D\n",
        "D = np.linalg.inv(B)\n",
        "print(D)"
      ],
      "execution_count": 41,
      "outputs": [
        {
          "output_type": "stream",
          "name": "stdout",
          "text": [
            "[[ 0.46153846 -0.38461538]\n",
            " [-0.07692308  0.23076923]]\n"
          ]
        }
      ]
    },
    {
      "cell_type": "code",
      "metadata": {
        "colab": {
          "base_uri": "https://localhost:8080/"
        },
        "id": "DSChTftUyLng",
        "outputId": "8a785a77-8cf1-4c33-b2db-ab8e6dcce6a6"
      },
      "source": [
        "#transpose D\n",
        "np.transpose(D)"
      ],
      "execution_count": 44,
      "outputs": [
        {
          "output_type": "execute_result",
          "data": {
            "text/plain": [
              "array([[ 0.46153846, -0.07692308],\n",
              "       [-0.38461538,  0.23076923]])"
            ]
          },
          "metadata": {},
          "execution_count": 44
        }
      ]
    },
    {
      "cell_type": "code",
      "metadata": {
        "colab": {
          "base_uri": "https://localhost:8080/"
        },
        "id": "w4vzXOvYyWRY",
        "outputId": "ee7d2d05-a6c4-4af9-c776-61778f9aff3b"
      },
      "source": [
        "# nilai eigen dan vektor eigen dari A dan B\n",
        "print('nilai dan vektor eigen matriks A = \\n', np.linalg.eig(A))\n",
        "print('nilai dan vektor eigen matriks B = \\n', np.linalg.eig(B))"
      ],
      "execution_count": 47,
      "outputs": [
        {
          "output_type": "stream",
          "name": "stdout",
          "text": [
            "nilai dan vektor eigen matriks A = \n",
            " (array([-0.62347538,  9.62347538]), array([[-0.77640358, -0.22592838],\n",
            "       [ 0.63023605, -0.97414391]]))\n",
            "nilai dan vektor eigen matriks B = \n",
            " (array([1.8074176, 7.1925824]), array([[-0.97271381, -0.76626443],\n",
            "       [ 0.23200828, -0.64252535]]))\n"
          ]
        }
      ]
    },
    {
      "cell_type": "markdown",
      "metadata": {
        "id": "7NwMsWC-MQgG"
      },
      "source": [
        "Apa perbedaan dari B*D (perkalian antar entry di B dan D) dan BD (perkalian matriks B dan D)? "
      ]
    },
    {
      "cell_type": "code",
      "metadata": {
        "id": "0_PrzTpUMgQ8",
        "colab": {
          "base_uri": "https://localhost:8080/"
        },
        "outputId": "44311403-fb45-4366-a3bc-1a30b6910422"
      },
      "source": [
        "#Tunjukkan bedanya di kodingan di bawah ini\n",
        "entry = B*D\n",
        "print('perkalian antar entry B*D= ')\n",
        "print(entry)\n",
        "\n",
        "#perkalian matrik\n",
        "print('perkalian matriks = ')\n",
        "print(np.matmul(B,D))"
      ],
      "execution_count": 43,
      "outputs": [
        {
          "output_type": "stream",
          "name": "stdout",
          "text": [
            "perkalian antar entry B*D= \n",
            "[[ 1.38461538 -1.92307692]\n",
            " [-0.07692308  1.38461538]]\n",
            "perkalian matriks = \n",
            "[[ 1.00000000e+00 -1.11022302e-16]\n",
            " [ 1.11022302e-16  1.00000000e+00]]\n"
          ]
        }
      ]
    },
    {
      "cell_type": "markdown",
      "metadata": {
        "id": "633JPFjMTk3Y"
      },
      "source": [
        "output jawaban: \n",
        "\n",
        "perkalian entry = [[ 1.38461538, -1.92307692], [-0.07692308,  1.38461538]]\n",
        "\n",
        "perkalian matriks = [[ 1.00000000e+00, -1.11022302e-16],\n",
        "       [ 1.11022302e-16,  1.00000000e+00]]\n"
      ]
    },
    {
      "cell_type": "markdown",
      "metadata": {
        "id": "emE1XJjgyTML"
      },
      "source": [
        "## Pandas dan Statistik Deskriptif"
      ]
    },
    {
      "cell_type": "code",
      "metadata": {
        "id": "LbUkdam20Luk"
      },
      "source": [
        "import pandas as pd"
      ],
      "execution_count": 3,
      "outputs": []
    },
    {
      "cell_type": "markdown",
      "metadata": {
        "id": "WA8wMETa0VCO"
      },
      "source": [
        "### Mengenal DataFrame"
      ]
    },
    {
      "cell_type": "code",
      "metadata": {
        "colab": {
          "base_uri": "https://localhost:8080/",
          "height": 141
        },
        "id": "zeMEfrs6yOj_",
        "outputId": "81774b59-33b4-4880-bcbb-63fc04d60376"
      },
      "source": [
        "#Dari Array\n",
        "df1 = pd.DataFrame(np.array([[1, 2, 3], [4, 5, 6], [7, 8, 9]]), columns=['a', 'b', 'c'])\n",
        "df1"
      ],
      "execution_count": 6,
      "outputs": [
        {
          "output_type": "execute_result",
          "data": {
            "text/html": [
              "<div>\n",
              "<style scoped>\n",
              "    .dataframe tbody tr th:only-of-type {\n",
              "        vertical-align: middle;\n",
              "    }\n",
              "\n",
              "    .dataframe tbody tr th {\n",
              "        vertical-align: top;\n",
              "    }\n",
              "\n",
              "    .dataframe thead th {\n",
              "        text-align: right;\n",
              "    }\n",
              "</style>\n",
              "<table border=\"1\" class=\"dataframe\">\n",
              "  <thead>\n",
              "    <tr style=\"text-align: right;\">\n",
              "      <th></th>\n",
              "      <th>a</th>\n",
              "      <th>b</th>\n",
              "      <th>c</th>\n",
              "    </tr>\n",
              "  </thead>\n",
              "  <tbody>\n",
              "    <tr>\n",
              "      <th>0</th>\n",
              "      <td>1</td>\n",
              "      <td>2</td>\n",
              "      <td>3</td>\n",
              "    </tr>\n",
              "    <tr>\n",
              "      <th>1</th>\n",
              "      <td>4</td>\n",
              "      <td>5</td>\n",
              "      <td>6</td>\n",
              "    </tr>\n",
              "    <tr>\n",
              "      <th>2</th>\n",
              "      <td>7</td>\n",
              "      <td>8</td>\n",
              "      <td>9</td>\n",
              "    </tr>\n",
              "  </tbody>\n",
              "</table>\n",
              "</div>"
            ],
            "text/plain": [
              "   a  b  c\n",
              "0  1  2  3\n",
              "1  4  5  6\n",
              "2  7  8  9"
            ]
          },
          "metadata": {},
          "execution_count": 6
        }
      ]
    },
    {
      "cell_type": "code",
      "metadata": {
        "colab": {
          "base_uri": "https://localhost:8080/",
          "height": 141
        },
        "id": "vOxPCBpazyKO",
        "outputId": "656994a5-a59a-493d-cb00-b74e0792ff27"
      },
      "source": [
        "#Dari dictionary\n",
        "df2=pd.DataFrame({'a': [1,2,3], 'b': [4,5,6], 'c': [7, 8, 9]})\n",
        "df2"
      ],
      "execution_count": 7,
      "outputs": [
        {
          "output_type": "execute_result",
          "data": {
            "text/html": [
              "<div>\n",
              "<style scoped>\n",
              "    .dataframe tbody tr th:only-of-type {\n",
              "        vertical-align: middle;\n",
              "    }\n",
              "\n",
              "    .dataframe tbody tr th {\n",
              "        vertical-align: top;\n",
              "    }\n",
              "\n",
              "    .dataframe thead th {\n",
              "        text-align: right;\n",
              "    }\n",
              "</style>\n",
              "<table border=\"1\" class=\"dataframe\">\n",
              "  <thead>\n",
              "    <tr style=\"text-align: right;\">\n",
              "      <th></th>\n",
              "      <th>a</th>\n",
              "      <th>b</th>\n",
              "      <th>c</th>\n",
              "    </tr>\n",
              "  </thead>\n",
              "  <tbody>\n",
              "    <tr>\n",
              "      <th>0</th>\n",
              "      <td>1</td>\n",
              "      <td>4</td>\n",
              "      <td>7</td>\n",
              "    </tr>\n",
              "    <tr>\n",
              "      <th>1</th>\n",
              "      <td>2</td>\n",
              "      <td>5</td>\n",
              "      <td>8</td>\n",
              "    </tr>\n",
              "    <tr>\n",
              "      <th>2</th>\n",
              "      <td>3</td>\n",
              "      <td>6</td>\n",
              "      <td>9</td>\n",
              "    </tr>\n",
              "  </tbody>\n",
              "</table>\n",
              "</div>"
            ],
            "text/plain": [
              "   a  b  c\n",
              "0  1  4  7\n",
              "1  2  5  8\n",
              "2  3  6  9"
            ]
          },
          "metadata": {},
          "execution_count": 7
        }
      ]
    },
    {
      "cell_type": "code",
      "metadata": {
        "colab": {
          "base_uri": "https://localhost:8080/",
          "height": 141
        },
        "id": "SNZmiYTfz_2r",
        "outputId": "aeecdcd7-57bd-44e5-d102-6ce8b7be6fac"
      },
      "source": [
        "#Menambahkan kolom baru\n",
        "df1['d'] = [3, 5, 6]\n",
        "df1"
      ],
      "execution_count": 10,
      "outputs": [
        {
          "output_type": "execute_result",
          "data": {
            "text/html": [
              "<div>\n",
              "<style scoped>\n",
              "    .dataframe tbody tr th:only-of-type {\n",
              "        vertical-align: middle;\n",
              "    }\n",
              "\n",
              "    .dataframe tbody tr th {\n",
              "        vertical-align: top;\n",
              "    }\n",
              "\n",
              "    .dataframe thead th {\n",
              "        text-align: right;\n",
              "    }\n",
              "</style>\n",
              "<table border=\"1\" class=\"dataframe\">\n",
              "  <thead>\n",
              "    <tr style=\"text-align: right;\">\n",
              "      <th></th>\n",
              "      <th>a</th>\n",
              "      <th>b</th>\n",
              "      <th>c</th>\n",
              "      <th>d</th>\n",
              "    </tr>\n",
              "  </thead>\n",
              "  <tbody>\n",
              "    <tr>\n",
              "      <th>0</th>\n",
              "      <td>1</td>\n",
              "      <td>2</td>\n",
              "      <td>3</td>\n",
              "      <td>3</td>\n",
              "    </tr>\n",
              "    <tr>\n",
              "      <th>1</th>\n",
              "      <td>4</td>\n",
              "      <td>5</td>\n",
              "      <td>6</td>\n",
              "      <td>5</td>\n",
              "    </tr>\n",
              "    <tr>\n",
              "      <th>2</th>\n",
              "      <td>7</td>\n",
              "      <td>8</td>\n",
              "      <td>9</td>\n",
              "      <td>6</td>\n",
              "    </tr>\n",
              "  </tbody>\n",
              "</table>\n",
              "</div>"
            ],
            "text/plain": [
              "   a  b  c  d\n",
              "0  1  2  3  3\n",
              "1  4  5  6  5\n",
              "2  7  8  9  6"
            ]
          },
          "metadata": {},
          "execution_count": 10
        }
      ]
    },
    {
      "cell_type": "code",
      "metadata": {
        "id": "KXyPuM_OOHFa"
      },
      "source": [
        "#Menyimpan dataframe ke csv file\n",
        "df1.to_csv('latihan/df1.csv')"
      ],
      "execution_count": 9,
      "outputs": []
    },
    {
      "cell_type": "code",
      "metadata": {
        "colab": {
          "base_uri": "https://localhost:8080/",
          "height": 141
        },
        "id": "zV0QN-471Jri",
        "outputId": "6e760d8c-c010-4661-d473-47317a2dcf30"
      },
      "source": [
        "#Mengambil kolom tertentu: \n",
        "df3 = df1[['a','d']]\n",
        "df3"
      ],
      "execution_count": 11,
      "outputs": [
        {
          "output_type": "execute_result",
          "data": {
            "text/html": [
              "<div>\n",
              "<style scoped>\n",
              "    .dataframe tbody tr th:only-of-type {\n",
              "        vertical-align: middle;\n",
              "    }\n",
              "\n",
              "    .dataframe tbody tr th {\n",
              "        vertical-align: top;\n",
              "    }\n",
              "\n",
              "    .dataframe thead th {\n",
              "        text-align: right;\n",
              "    }\n",
              "</style>\n",
              "<table border=\"1\" class=\"dataframe\">\n",
              "  <thead>\n",
              "    <tr style=\"text-align: right;\">\n",
              "      <th></th>\n",
              "      <th>a</th>\n",
              "      <th>d</th>\n",
              "    </tr>\n",
              "  </thead>\n",
              "  <tbody>\n",
              "    <tr>\n",
              "      <th>0</th>\n",
              "      <td>1</td>\n",
              "      <td>3</td>\n",
              "    </tr>\n",
              "    <tr>\n",
              "      <th>1</th>\n",
              "      <td>4</td>\n",
              "      <td>5</td>\n",
              "    </tr>\n",
              "    <tr>\n",
              "      <th>2</th>\n",
              "      <td>7</td>\n",
              "      <td>6</td>\n",
              "    </tr>\n",
              "  </tbody>\n",
              "</table>\n",
              "</div>"
            ],
            "text/plain": [
              "   a  d\n",
              "0  1  3\n",
              "1  4  5\n",
              "2  7  6"
            ]
          },
          "metadata": {},
          "execution_count": 11
        }
      ]
    },
    {
      "cell_type": "code",
      "metadata": {
        "colab": {
          "base_uri": "https://localhost:8080/",
          "height": 110
        },
        "id": "w_AovvMd1gHV",
        "outputId": "67ddda79-f88e-44dd-c7eb-ad778376f0be"
      },
      "source": [
        "#Mengambil sebagian data berdasarkan entrynya\n",
        "df4a = df1[df1['a']>2] #df1 yang df1['a']>2\n",
        "df4a"
      ],
      "execution_count": 19,
      "outputs": [
        {
          "output_type": "execute_result",
          "data": {
            "text/html": [
              "<div>\n",
              "<style scoped>\n",
              "    .dataframe tbody tr th:only-of-type {\n",
              "        vertical-align: middle;\n",
              "    }\n",
              "\n",
              "    .dataframe tbody tr th {\n",
              "        vertical-align: top;\n",
              "    }\n",
              "\n",
              "    .dataframe thead th {\n",
              "        text-align: right;\n",
              "    }\n",
              "</style>\n",
              "<table border=\"1\" class=\"dataframe\">\n",
              "  <thead>\n",
              "    <tr style=\"text-align: right;\">\n",
              "      <th></th>\n",
              "      <th>a</th>\n",
              "      <th>b</th>\n",
              "      <th>c</th>\n",
              "      <th>d</th>\n",
              "    </tr>\n",
              "  </thead>\n",
              "  <tbody>\n",
              "    <tr>\n",
              "      <th>1</th>\n",
              "      <td>4</td>\n",
              "      <td>5</td>\n",
              "      <td>6</td>\n",
              "      <td>5</td>\n",
              "    </tr>\n",
              "    <tr>\n",
              "      <th>2</th>\n",
              "      <td>7</td>\n",
              "      <td>8</td>\n",
              "      <td>9</td>\n",
              "      <td>6</td>\n",
              "    </tr>\n",
              "  </tbody>\n",
              "</table>\n",
              "</div>"
            ],
            "text/plain": [
              "   a  b  c  d\n",
              "1  4  5  6  5\n",
              "2  7  8  9  6"
            ]
          },
          "metadata": {},
          "execution_count": 19
        }
      ]
    },
    {
      "cell_type": "code",
      "metadata": {
        "colab": {
          "base_uri": "https://localhost:8080/",
          "height": 78
        },
        "id": "J6REVPcjO3XR",
        "outputId": "f0fe87b4-7008-435c-d6ef-83f84357e12f"
      },
      "source": [
        "df4b = df1[df1['a']==4] #df1 yang df1['a']=4\n",
        "df4b"
      ],
      "execution_count": 26,
      "outputs": [
        {
          "output_type": "execute_result",
          "data": {
            "text/html": [
              "<div>\n",
              "<style scoped>\n",
              "    .dataframe tbody tr th:only-of-type {\n",
              "        vertical-align: middle;\n",
              "    }\n",
              "\n",
              "    .dataframe tbody tr th {\n",
              "        vertical-align: top;\n",
              "    }\n",
              "\n",
              "    .dataframe thead th {\n",
              "        text-align: right;\n",
              "    }\n",
              "</style>\n",
              "<table border=\"1\" class=\"dataframe\">\n",
              "  <thead>\n",
              "    <tr style=\"text-align: right;\">\n",
              "      <th></th>\n",
              "      <th>a</th>\n",
              "      <th>b</th>\n",
              "      <th>c</th>\n",
              "      <th>d</th>\n",
              "    </tr>\n",
              "  </thead>\n",
              "  <tbody>\n",
              "    <tr>\n",
              "      <th>1</th>\n",
              "      <td>4</td>\n",
              "      <td>5</td>\n",
              "      <td>6</td>\n",
              "      <td>5</td>\n",
              "    </tr>\n",
              "  </tbody>\n",
              "</table>\n",
              "</div>"
            ],
            "text/plain": [
              "   a  b  c  d\n",
              "1  4  5  6  5"
            ]
          },
          "metadata": {},
          "execution_count": 26
        }
      ]
    },
    {
      "cell_type": "code",
      "metadata": {
        "colab": {
          "base_uri": "https://localhost:8080/",
          "height": 111
        },
        "id": "eQZK_ddv2LnV",
        "outputId": "2f2a3191-02fe-44bf-debf-c67cfdfbdd6b"
      },
      "source": [
        "#Mengambil sebagian data berdasarkan indexnya\n",
        "df5 = df1.iloc[0:2, 0:3]\n",
        "df5"
      ],
      "execution_count": null,
      "outputs": [
        {
          "output_type": "execute_result",
          "data": {
            "text/html": [
              "<div>\n",
              "<style scoped>\n",
              "    .dataframe tbody tr th:only-of-type {\n",
              "        vertical-align: middle;\n",
              "    }\n",
              "\n",
              "    .dataframe tbody tr th {\n",
              "        vertical-align: top;\n",
              "    }\n",
              "\n",
              "    .dataframe thead th {\n",
              "        text-align: right;\n",
              "    }\n",
              "</style>\n",
              "<table border=\"1\" class=\"dataframe\">\n",
              "  <thead>\n",
              "    <tr style=\"text-align: right;\">\n",
              "      <th></th>\n",
              "      <th>a</th>\n",
              "      <th>b</th>\n",
              "      <th>c</th>\n",
              "    </tr>\n",
              "  </thead>\n",
              "  <tbody>\n",
              "    <tr>\n",
              "      <th>0</th>\n",
              "      <td>1</td>\n",
              "      <td>2</td>\n",
              "      <td>3</td>\n",
              "    </tr>\n",
              "    <tr>\n",
              "      <th>1</th>\n",
              "      <td>4</td>\n",
              "      <td>5</td>\n",
              "      <td>6</td>\n",
              "    </tr>\n",
              "  </tbody>\n",
              "</table>\n",
              "</div>"
            ],
            "text/plain": [
              "   a  b  c\n",
              "0  1  2  3\n",
              "1  4  5  6"
            ]
          },
          "metadata": {},
          "execution_count": 93
        }
      ]
    },
    {
      "cell_type": "markdown",
      "metadata": {
        "id": "oQtNPAVe4cVH"
      },
      "source": [
        "### Mengimport data ke DataFrame"
      ]
    },
    {
      "cell_type": "code",
      "metadata": {
        "colab": {
          "base_uri": "https://localhost:8080/",
          "height": 414
        },
        "id": "O507C0Zg2f3t",
        "outputId": "9361861b-06d6-4397-a144-6c2c6606e694"
      },
      "source": [
        "#Contoh mengimport dari web\n",
        "url = 'https://people.sc.fsu.edu/~jburkardt/data/csv/freshman_kgs.csv'\n",
        "df6 = pd.read_csv(url)\n",
        "\n",
        "df6"
      ],
      "execution_count": 27,
      "outputs": [
        {
          "output_type": "execute_result",
          "data": {
            "text/html": [
              "<div>\n",
              "<style scoped>\n",
              "    .dataframe tbody tr th:only-of-type {\n",
              "        vertical-align: middle;\n",
              "    }\n",
              "\n",
              "    .dataframe tbody tr th {\n",
              "        vertical-align: top;\n",
              "    }\n",
              "\n",
              "    .dataframe thead th {\n",
              "        text-align: right;\n",
              "    }\n",
              "</style>\n",
              "<table border=\"1\" class=\"dataframe\">\n",
              "  <thead>\n",
              "    <tr style=\"text-align: right;\">\n",
              "      <th></th>\n",
              "      <th>Sex</th>\n",
              "      <th>\"Weight (Sep)\"</th>\n",
              "      <th>\"Weight (Apr)\"</th>\n",
              "      <th>\"BMI (Sep)\"</th>\n",
              "      <th>\"BMI (Apr)\"</th>\n",
              "    </tr>\n",
              "  </thead>\n",
              "  <tbody>\n",
              "    <tr>\n",
              "      <th>0</th>\n",
              "      <td>M</td>\n",
              "      <td>72</td>\n",
              "      <td>59</td>\n",
              "      <td>22.02</td>\n",
              "      <td>18.14</td>\n",
              "    </tr>\n",
              "    <tr>\n",
              "      <th>1</th>\n",
              "      <td>M</td>\n",
              "      <td>97</td>\n",
              "      <td>86</td>\n",
              "      <td>19.70</td>\n",
              "      <td>17.44</td>\n",
              "    </tr>\n",
              "    <tr>\n",
              "      <th>2</th>\n",
              "      <td>M</td>\n",
              "      <td>74</td>\n",
              "      <td>69</td>\n",
              "      <td>24.09</td>\n",
              "      <td>22.43</td>\n",
              "    </tr>\n",
              "    <tr>\n",
              "      <th>3</th>\n",
              "      <td>M</td>\n",
              "      <td>93</td>\n",
              "      <td>88</td>\n",
              "      <td>26.97</td>\n",
              "      <td>25.57</td>\n",
              "    </tr>\n",
              "    <tr>\n",
              "      <th>4</th>\n",
              "      <td>F</td>\n",
              "      <td>68</td>\n",
              "      <td>64</td>\n",
              "      <td>21.51</td>\n",
              "      <td>20.10</td>\n",
              "    </tr>\n",
              "    <tr>\n",
              "      <th>...</th>\n",
              "      <td>...</td>\n",
              "      <td>...</td>\n",
              "      <td>...</td>\n",
              "      <td>...</td>\n",
              "      <td>...</td>\n",
              "    </tr>\n",
              "    <tr>\n",
              "      <th>62</th>\n",
              "      <td>M</td>\n",
              "      <td>65</td>\n",
              "      <td>71</td>\n",
              "      <td>22.51</td>\n",
              "      <td>24.45</td>\n",
              "    </tr>\n",
              "    <tr>\n",
              "      <th>63</th>\n",
              "      <td>M</td>\n",
              "      <td>75</td>\n",
              "      <td>82</td>\n",
              "      <td>23.69</td>\n",
              "      <td>25.80</td>\n",
              "    </tr>\n",
              "    <tr>\n",
              "      <th>64</th>\n",
              "      <td>F</td>\n",
              "      <td>42</td>\n",
              "      <td>49</td>\n",
              "      <td>15.08</td>\n",
              "      <td>17.74</td>\n",
              "    </tr>\n",
              "    <tr>\n",
              "      <th>65</th>\n",
              "      <td>M</td>\n",
              "      <td>74</td>\n",
              "      <td>82</td>\n",
              "      <td>22.64</td>\n",
              "      <td>25.33</td>\n",
              "    </tr>\n",
              "    <tr>\n",
              "      <th>66</th>\n",
              "      <td>M</td>\n",
              "      <td>94</td>\n",
              "      <td>105</td>\n",
              "      <td>36.57</td>\n",
              "      <td>40.86</td>\n",
              "    </tr>\n",
              "  </tbody>\n",
              "</table>\n",
              "<p>67 rows × 5 columns</p>\n",
              "</div>"
            ],
            "text/plain": [
              "   Sex   \"Weight (Sep)\"   \"Weight (Apr)\"   \"BMI (Sep)\"   \"BMI (Apr)\"\n",
              "0    M               72               59         22.02         18.14\n",
              "1    M               97               86         19.70         17.44\n",
              "2    M               74               69         24.09         22.43\n",
              "3    M               93               88         26.97         25.57\n",
              "4    F               68               64         21.51         20.10\n",
              "..  ..              ...              ...           ...           ...\n",
              "62   M               65               71         22.51         24.45\n",
              "63   M               75               82         23.69         25.80\n",
              "64   F               42               49         15.08         17.74\n",
              "65   M               74               82         22.64         25.33\n",
              "66   M               94              105         36.57         40.86\n",
              "\n",
              "[67 rows x 5 columns]"
            ]
          },
          "metadata": {},
          "execution_count": 27
        }
      ]
    },
    {
      "cell_type": "code",
      "metadata": {
        "colab": {
          "base_uri": "https://localhost:8080/",
          "height": 202
        },
        "id": "_vANo60lC4Nn",
        "outputId": "137e1995-3459-4790-cf88-e7d34efbd15a"
      },
      "source": [
        "#5 data teratas\n",
        "df6.head()"
      ],
      "execution_count": 28,
      "outputs": [
        {
          "output_type": "execute_result",
          "data": {
            "text/html": [
              "<div>\n",
              "<style scoped>\n",
              "    .dataframe tbody tr th:only-of-type {\n",
              "        vertical-align: middle;\n",
              "    }\n",
              "\n",
              "    .dataframe tbody tr th {\n",
              "        vertical-align: top;\n",
              "    }\n",
              "\n",
              "    .dataframe thead th {\n",
              "        text-align: right;\n",
              "    }\n",
              "</style>\n",
              "<table border=\"1\" class=\"dataframe\">\n",
              "  <thead>\n",
              "    <tr style=\"text-align: right;\">\n",
              "      <th></th>\n",
              "      <th>Sex</th>\n",
              "      <th>\"Weight (Sep)\"</th>\n",
              "      <th>\"Weight (Apr)\"</th>\n",
              "      <th>\"BMI (Sep)\"</th>\n",
              "      <th>\"BMI (Apr)\"</th>\n",
              "    </tr>\n",
              "  </thead>\n",
              "  <tbody>\n",
              "    <tr>\n",
              "      <th>0</th>\n",
              "      <td>M</td>\n",
              "      <td>72</td>\n",
              "      <td>59</td>\n",
              "      <td>22.02</td>\n",
              "      <td>18.14</td>\n",
              "    </tr>\n",
              "    <tr>\n",
              "      <th>1</th>\n",
              "      <td>M</td>\n",
              "      <td>97</td>\n",
              "      <td>86</td>\n",
              "      <td>19.70</td>\n",
              "      <td>17.44</td>\n",
              "    </tr>\n",
              "    <tr>\n",
              "      <th>2</th>\n",
              "      <td>M</td>\n",
              "      <td>74</td>\n",
              "      <td>69</td>\n",
              "      <td>24.09</td>\n",
              "      <td>22.43</td>\n",
              "    </tr>\n",
              "    <tr>\n",
              "      <th>3</th>\n",
              "      <td>M</td>\n",
              "      <td>93</td>\n",
              "      <td>88</td>\n",
              "      <td>26.97</td>\n",
              "      <td>25.57</td>\n",
              "    </tr>\n",
              "    <tr>\n",
              "      <th>4</th>\n",
              "      <td>F</td>\n",
              "      <td>68</td>\n",
              "      <td>64</td>\n",
              "      <td>21.51</td>\n",
              "      <td>20.10</td>\n",
              "    </tr>\n",
              "  </tbody>\n",
              "</table>\n",
              "</div>"
            ],
            "text/plain": [
              "  Sex   \"Weight (Sep)\"   \"Weight (Apr)\"   \"BMI (Sep)\"   \"BMI (Apr)\"\n",
              "0   M               72               59         22.02         18.14\n",
              "1   M               97               86         19.70         17.44\n",
              "2   M               74               69         24.09         22.43\n",
              "3   M               93               88         26.97         25.57\n",
              "4   F               68               64         21.51         20.10"
            ]
          },
          "metadata": {},
          "execution_count": 28
        }
      ]
    },
    {
      "cell_type": "markdown",
      "metadata": {
        "id": "VncYiRCo8f3m"
      },
      "source": [
        "### Membuat deskriptif"
      ]
    },
    {
      "cell_type": "code",
      "metadata": {
        "colab": {
          "base_uri": "https://localhost:8080/",
          "height": 294
        },
        "id": "cRvrFniE8etF",
        "outputId": "8fd84239-9de6-4aed-d289-7fdf5cb30cf7"
      },
      "source": [
        "#DataNumerik\n",
        "df6.describe()"
      ],
      "execution_count": 29,
      "outputs": [
        {
          "output_type": "execute_result",
          "data": {
            "text/html": [
              "<div>\n",
              "<style scoped>\n",
              "    .dataframe tbody tr th:only-of-type {\n",
              "        vertical-align: middle;\n",
              "    }\n",
              "\n",
              "    .dataframe tbody tr th {\n",
              "        vertical-align: top;\n",
              "    }\n",
              "\n",
              "    .dataframe thead th {\n",
              "        text-align: right;\n",
              "    }\n",
              "</style>\n",
              "<table border=\"1\" class=\"dataframe\">\n",
              "  <thead>\n",
              "    <tr style=\"text-align: right;\">\n",
              "      <th></th>\n",
              "      <th>\"Weight (Sep)\"</th>\n",
              "      <th>\"Weight (Apr)\"</th>\n",
              "      <th>\"BMI (Sep)\"</th>\n",
              "      <th>\"BMI (Apr)\"</th>\n",
              "    </tr>\n",
              "  </thead>\n",
              "  <tbody>\n",
              "    <tr>\n",
              "      <th>count</th>\n",
              "      <td>67.000000</td>\n",
              "      <td>67.000000</td>\n",
              "      <td>67.000000</td>\n",
              "      <td>67.000000</td>\n",
              "    </tr>\n",
              "    <tr>\n",
              "      <th>mean</th>\n",
              "      <td>65.059701</td>\n",
              "      <td>66.238806</td>\n",
              "      <td>22.030000</td>\n",
              "      <td>22.484179</td>\n",
              "    </tr>\n",
              "    <tr>\n",
              "      <th>std</th>\n",
              "      <td>11.285390</td>\n",
              "      <td>11.284327</td>\n",
              "      <td>3.308901</td>\n",
              "      <td>3.602527</td>\n",
              "    </tr>\n",
              "    <tr>\n",
              "      <th>min</th>\n",
              "      <td>42.000000</td>\n",
              "      <td>47.000000</td>\n",
              "      <td>15.080000</td>\n",
              "      <td>16.890000</td>\n",
              "    </tr>\n",
              "    <tr>\n",
              "      <th>25%</th>\n",
              "      <td>56.500000</td>\n",
              "      <td>58.000000</td>\n",
              "      <td>19.965000</td>\n",
              "      <td>20.230000</td>\n",
              "    </tr>\n",
              "    <tr>\n",
              "      <th>50%</th>\n",
              "      <td>64.000000</td>\n",
              "      <td>66.000000</td>\n",
              "      <td>21.730000</td>\n",
              "      <td>22.310000</td>\n",
              "    </tr>\n",
              "    <tr>\n",
              "      <th>75%</th>\n",
              "      <td>70.500000</td>\n",
              "      <td>70.000000</td>\n",
              "      <td>23.160000</td>\n",
              "      <td>23.860000</td>\n",
              "    </tr>\n",
              "    <tr>\n",
              "      <th>max</th>\n",
              "      <td>97.000000</td>\n",
              "      <td>105.000000</td>\n",
              "      <td>36.570000</td>\n",
              "      <td>40.860000</td>\n",
              "    </tr>\n",
              "  </tbody>\n",
              "</table>\n",
              "</div>"
            ],
            "text/plain": [
              "        \"Weight (Sep)\"   \"Weight (Apr)\"   \"BMI (Sep)\"   \"BMI (Apr)\"\n",
              "count        67.000000        67.000000     67.000000     67.000000\n",
              "mean         65.059701        66.238806     22.030000     22.484179\n",
              "std          11.285390        11.284327      3.308901      3.602527\n",
              "min          42.000000        47.000000     15.080000     16.890000\n",
              "25%          56.500000        58.000000     19.965000     20.230000\n",
              "50%          64.000000        66.000000     21.730000     22.310000\n",
              "75%          70.500000        70.000000     23.160000     23.860000\n",
              "max          97.000000       105.000000     36.570000     40.860000"
            ]
          },
          "metadata": {},
          "execution_count": 29
        }
      ]
    },
    {
      "cell_type": "code",
      "metadata": {
        "colab": {
          "base_uri": "https://localhost:8080/",
          "height": 370
        },
        "id": "zmdLGchV8uuU",
        "outputId": "659d4674-7f6f-4660-bd20-5bdf3ba8a7a7"
      },
      "source": [
        "df6.hist()"
      ],
      "execution_count": 30,
      "outputs": [
        {
          "output_type": "execute_result",
          "data": {
            "text/plain": [
              "array([[<matplotlib.axes._subplots.AxesSubplot object at 0x7fbdfbb66290>,\n",
              "        <matplotlib.axes._subplots.AxesSubplot object at 0x7fbe022dac50>],\n",
              "       [<matplotlib.axes._subplots.AxesSubplot object at 0x7fbdfba75dd0>,\n",
              "        <matplotlib.axes._subplots.AxesSubplot object at 0x7fbdfba36490>]],\n",
              "      dtype=object)"
            ]
          },
          "metadata": {},
          "execution_count": 30
        },
        {
          "output_type": "display_data",
          "data": {
            "image/png": "[encoded data removed]",
            "text/plain": [
              "<Figure size 432x288 with 4 Axes>"
            ]
          },
          "metadata": {
            "needs_background": "light"
          }
        }
      ]
    },
    {
      "cell_type": "code",
      "metadata": {
        "colab": {
          "base_uri": "https://localhost:8080/"
        },
        "id": "7l1JrmIGsIF7",
        "outputId": "be238d2c-79ee-4aee-bc63-261a66381fc1"
      },
      "source": [
        "print(df6.dtypes)"
      ],
      "execution_count": 36,
      "outputs": [
        {
          "output_type": "stream",
          "name": "stdout",
          "text": [
            "Sex                 object\n",
            " \"Weight (Sep)\"      int64\n",
            " \"Weight (Apr)\"      int64\n",
            " \"BMI (Sep)\"       float64\n",
            " \"BMI (Apr)\"       float64\n",
            "dtype: object\n"
          ]
        }
      ]
    },
    {
      "cell_type": "code",
      "metadata": {
        "colab": {
          "base_uri": "https://localhost:8080/",
          "height": 171
        },
        "id": "t4AclPYb81C3",
        "outputId": "4b585172-d927-4106-9829-ecb85a7f769b"
      },
      "source": [
        "#data non-numerik\n",
        "df6.describe(include=[\"object\"]) "
      ],
      "execution_count": 38,
      "outputs": [
        {
          "output_type": "execute_result",
          "data": {
            "text/html": [
              "<div>\n",
              "<style scoped>\n",
              "    .dataframe tbody tr th:only-of-type {\n",
              "        vertical-align: middle;\n",
              "    }\n",
              "\n",
              "    .dataframe tbody tr th {\n",
              "        vertical-align: top;\n",
              "    }\n",
              "\n",
              "    .dataframe thead th {\n",
              "        text-align: right;\n",
              "    }\n",
              "</style>\n",
              "<table border=\"1\" class=\"dataframe\">\n",
              "  <thead>\n",
              "    <tr style=\"text-align: right;\">\n",
              "      <th></th>\n",
              "      <th>Sex</th>\n",
              "    </tr>\n",
              "  </thead>\n",
              "  <tbody>\n",
              "    <tr>\n",
              "      <th>count</th>\n",
              "      <td>67</td>\n",
              "    </tr>\n",
              "    <tr>\n",
              "      <th>unique</th>\n",
              "      <td>2</td>\n",
              "    </tr>\n",
              "    <tr>\n",
              "      <th>top</th>\n",
              "      <td>F</td>\n",
              "    </tr>\n",
              "    <tr>\n",
              "      <th>freq</th>\n",
              "      <td>35</td>\n",
              "    </tr>\n",
              "  </tbody>\n",
              "</table>\n",
              "</div>"
            ],
            "text/plain": [
              "       Sex\n",
              "count   67\n",
              "unique   2\n",
              "top      F\n",
              "freq    35"
            ]
          },
          "metadata": {},
          "execution_count": 38
        }
      ]
    },
    {
      "cell_type": "code",
      "metadata": {
        "colab": {
          "base_uri": "https://localhost:8080/"
        },
        "id": "3pHZDA8d6o-r",
        "outputId": "fd2b99c6-beef-4541-86f7-a56f524b0338"
      },
      "source": [
        "#List nama kolom\n",
        "df6.columns"
      ],
      "execution_count": 32,
      "outputs": [
        {
          "output_type": "execute_result",
          "data": {
            "text/plain": [
              "Index(['Sex', ' \"Weight (Sep)\"', ' \"Weight (Apr)\"', ' \"BMI (Sep)\"',\n",
              "       ' \"BMI (Apr)\"'],\n",
              "      dtype='object')"
            ]
          },
          "metadata": {},
          "execution_count": 32
        }
      ]
    },
    {
      "cell_type": "markdown",
      "metadata": {
        "id": "W_fSI7xFDNmo"
      },
      "source": [
        "Untuk memudahkan saat kita butuh menuliskan nama kolomnya, bisa langsung copas agar sesuai formatnya (misalnya huruf besar/kecil, dll)"
      ]
    },
    {
      "cell_type": "markdown",
      "metadata": {
        "id": "vdWlI9_l59k-"
      },
      "source": [
        "### Latihan-5 (mengambil sebagian data)\n",
        "Buat kodingan untuk memilih data yang perempuan saja"
      ]
    },
    {
      "cell_type": "code",
      "metadata": {
        "colab": {
          "base_uri": "https://localhost:8080/",
          "height": 1000
        },
        "id": "b669Ar295lNf",
        "outputId": "f5443b3b-1de8-40fa-e4e9-d968f53c9437"
      },
      "source": [
        "#Pilih data yang perempuan saja \n"
      ],
      "execution_count": null,
      "outputs": [
        {
          "output_type": "execute_result",
          "data": {
            "text/html": [
              "<div>\n",
              "<style scoped>\n",
              "    .dataframe tbody tr th:only-of-type {\n",
              "        vertical-align: middle;\n",
              "    }\n",
              "\n",
              "    .dataframe tbody tr th {\n",
              "        vertical-align: top;\n",
              "    }\n",
              "\n",
              "    .dataframe thead th {\n",
              "        text-align: right;\n",
              "    }\n",
              "</style>\n",
              "<table border=\"1\" class=\"dataframe\">\n",
              "  <thead>\n",
              "    <tr style=\"text-align: right;\">\n",
              "      <th></th>\n",
              "      <th>Sex</th>\n",
              "      <th>\"Weight (Sep)\"</th>\n",
              "      <th>\"Weight (Apr)\"</th>\n",
              "      <th>\"BMI (Sep)\"</th>\n",
              "      <th>\"BMI (Apr)\"</th>\n",
              "    </tr>\n",
              "  </thead>\n",
              "  <tbody>\n",
              "    <tr>\n",
              "      <th>4</th>\n",
              "      <td>F</td>\n",
              "      <td>68</td>\n",
              "      <td>64</td>\n",
              "      <td>21.51</td>\n",
              "      <td>20.10</td>\n",
              "    </tr>\n",
              "    <tr>\n",
              "      <th>6</th>\n",
              "      <td>F</td>\n",
              "      <td>64</td>\n",
              "      <td>60</td>\n",
              "      <td>24.24</td>\n",
              "      <td>22.88</td>\n",
              "    </tr>\n",
              "    <tr>\n",
              "      <th>7</th>\n",
              "      <td>F</td>\n",
              "      <td>56</td>\n",
              "      <td>53</td>\n",
              "      <td>21.23</td>\n",
              "      <td>20.23</td>\n",
              "    </tr>\n",
              "    <tr>\n",
              "      <th>8</th>\n",
              "      <td>F</td>\n",
              "      <td>70</td>\n",
              "      <td>68</td>\n",
              "      <td>30.26</td>\n",
              "      <td>29.24</td>\n",
              "    </tr>\n",
              "    <tr>\n",
              "      <th>9</th>\n",
              "      <td>F</td>\n",
              "      <td>58</td>\n",
              "      <td>56</td>\n",
              "      <td>21.88</td>\n",
              "      <td>21.02</td>\n",
              "    </tr>\n",
              "    <tr>\n",
              "      <th>10</th>\n",
              "      <td>F</td>\n",
              "      <td>50</td>\n",
              "      <td>47</td>\n",
              "      <td>17.63</td>\n",
              "      <td>16.89</td>\n",
              "    </tr>\n",
              "    <tr>\n",
              "      <th>13</th>\n",
              "      <td>F</td>\n",
              "      <td>56</td>\n",
              "      <td>55</td>\n",
              "      <td>20.97</td>\n",
              "      <td>20.36</td>\n",
              "    </tr>\n",
              "    <tr>\n",
              "      <th>14</th>\n",
              "      <td>F</td>\n",
              "      <td>70</td>\n",
              "      <td>68</td>\n",
              "      <td>27.30</td>\n",
              "      <td>26.73</td>\n",
              "    </tr>\n",
              "    <tr>\n",
              "      <th>15</th>\n",
              "      <td>F</td>\n",
              "      <td>61</td>\n",
              "      <td>60</td>\n",
              "      <td>23.30</td>\n",
              "      <td>22.88</td>\n",
              "    </tr>\n",
              "    <tr>\n",
              "      <th>16</th>\n",
              "      <td>F</td>\n",
              "      <td>53</td>\n",
              "      <td>52</td>\n",
              "      <td>19.48</td>\n",
              "      <td>19.24</td>\n",
              "    </tr>\n",
              "    <tr>\n",
              "      <th>18</th>\n",
              "      <td>F</td>\n",
              "      <td>57</td>\n",
              "      <td>58</td>\n",
              "      <td>20.69</td>\n",
              "      <td>20.79</td>\n",
              "    </tr>\n",
              "    <tr>\n",
              "      <th>20</th>\n",
              "      <td>F</td>\n",
              "      <td>58</td>\n",
              "      <td>58</td>\n",
              "      <td>21.09</td>\n",
              "      <td>21.24</td>\n",
              "    </tr>\n",
              "    <tr>\n",
              "      <th>21</th>\n",
              "      <td>F</td>\n",
              "      <td>49</td>\n",
              "      <td>50</td>\n",
              "      <td>18.37</td>\n",
              "      <td>18.53</td>\n",
              "    </tr>\n",
              "    <tr>\n",
              "      <th>23</th>\n",
              "      <td>F</td>\n",
              "      <td>69</td>\n",
              "      <td>69</td>\n",
              "      <td>28.17</td>\n",
              "      <td>28.43</td>\n",
              "    </tr>\n",
              "    <tr>\n",
              "      <th>27</th>\n",
              "      <td>F</td>\n",
              "      <td>52</td>\n",
              "      <td>53</td>\n",
              "      <td>19.31</td>\n",
              "      <td>19.75</td>\n",
              "    </tr>\n",
              "    <tr>\n",
              "      <th>29</th>\n",
              "      <td>F</td>\n",
              "      <td>63</td>\n",
              "      <td>64</td>\n",
              "      <td>21.78</td>\n",
              "      <td>22.22</td>\n",
              "    </tr>\n",
              "    <tr>\n",
              "      <th>30</th>\n",
              "      <td>F</td>\n",
              "      <td>56</td>\n",
              "      <td>57</td>\n",
              "      <td>19.78</td>\n",
              "      <td>20.23</td>\n",
              "    </tr>\n",
              "    <tr>\n",
              "      <th>33</th>\n",
              "      <td>F</td>\n",
              "      <td>54</td>\n",
              "      <td>56</td>\n",
              "      <td>20.15</td>\n",
              "      <td>20.69</td>\n",
              "    </tr>\n",
              "    <tr>\n",
              "      <th>36</th>\n",
              "      <td>F</td>\n",
              "      <td>57</td>\n",
              "      <td>59</td>\n",
              "      <td>22.15</td>\n",
              "      <td>22.93</td>\n",
              "    </tr>\n",
              "    <tr>\n",
              "      <th>37</th>\n",
              "      <td>F</td>\n",
              "      <td>63</td>\n",
              "      <td>65</td>\n",
              "      <td>23.87</td>\n",
              "      <td>24.67</td>\n",
              "    </tr>\n",
              "    <tr>\n",
              "      <th>38</th>\n",
              "      <td>F</td>\n",
              "      <td>54</td>\n",
              "      <td>56</td>\n",
              "      <td>18.61</td>\n",
              "      <td>19.34</td>\n",
              "    </tr>\n",
              "    <tr>\n",
              "      <th>39</th>\n",
              "      <td>F</td>\n",
              "      <td>56</td>\n",
              "      <td>58</td>\n",
              "      <td>21.73</td>\n",
              "      <td>22.58</td>\n",
              "    </tr>\n",
              "    <tr>\n",
              "      <th>43</th>\n",
              "      <td>F</td>\n",
              "      <td>63</td>\n",
              "      <td>66</td>\n",
              "      <td>21.89</td>\n",
              "      <td>22.79</td>\n",
              "    </tr>\n",
              "    <tr>\n",
              "      <th>44</th>\n",
              "      <td>F</td>\n",
              "      <td>51</td>\n",
              "      <td>54</td>\n",
              "      <td>18.31</td>\n",
              "      <td>19.28</td>\n",
              "    </tr>\n",
              "    <tr>\n",
              "      <th>45</th>\n",
              "      <td>F</td>\n",
              "      <td>59</td>\n",
              "      <td>62</td>\n",
              "      <td>19.64</td>\n",
              "      <td>20.63</td>\n",
              "    </tr>\n",
              "    <tr>\n",
              "      <th>46</th>\n",
              "      <td>F</td>\n",
              "      <td>65</td>\n",
              "      <td>68</td>\n",
              "      <td>23.02</td>\n",
              "      <td>24.10</td>\n",
              "    </tr>\n",
              "    <tr>\n",
              "      <th>47</th>\n",
              "      <td>F</td>\n",
              "      <td>53</td>\n",
              "      <td>56</td>\n",
              "      <td>20.63</td>\n",
              "      <td>21.91</td>\n",
              "    </tr>\n",
              "    <tr>\n",
              "      <th>48</th>\n",
              "      <td>F</td>\n",
              "      <td>62</td>\n",
              "      <td>65</td>\n",
              "      <td>22.61</td>\n",
              "      <td>23.81</td>\n",
              "    </tr>\n",
              "    <tr>\n",
              "      <th>49</th>\n",
              "      <td>F</td>\n",
              "      <td>55</td>\n",
              "      <td>58</td>\n",
              "      <td>22.03</td>\n",
              "      <td>23.42</td>\n",
              "    </tr>\n",
              "    <tr>\n",
              "      <th>54</th>\n",
              "      <td>F</td>\n",
              "      <td>57</td>\n",
              "      <td>61</td>\n",
              "      <td>23.47</td>\n",
              "      <td>25.11</td>\n",
              "    </tr>\n",
              "    <tr>\n",
              "      <th>55</th>\n",
              "      <td>F</td>\n",
              "      <td>64</td>\n",
              "      <td>68</td>\n",
              "      <td>22.84</td>\n",
              "      <td>24.29</td>\n",
              "    </tr>\n",
              "    <tr>\n",
              "      <th>56</th>\n",
              "      <td>F</td>\n",
              "      <td>60</td>\n",
              "      <td>64</td>\n",
              "      <td>19.50</td>\n",
              "      <td>20.90</td>\n",
              "    </tr>\n",
              "    <tr>\n",
              "      <th>59</th>\n",
              "      <td>F</td>\n",
              "      <td>52</td>\n",
              "      <td>57</td>\n",
              "      <td>17.72</td>\n",
              "      <td>19.42</td>\n",
              "    </tr>\n",
              "    <tr>\n",
              "      <th>61</th>\n",
              "      <td>F</td>\n",
              "      <td>55</td>\n",
              "      <td>60</td>\n",
              "      <td>21.64</td>\n",
              "      <td>23.81</td>\n",
              "    </tr>\n",
              "    <tr>\n",
              "      <th>64</th>\n",
              "      <td>F</td>\n",
              "      <td>42</td>\n",
              "      <td>49</td>\n",
              "      <td>15.08</td>\n",
              "      <td>17.74</td>\n",
              "    </tr>\n",
              "  </tbody>\n",
              "</table>\n",
              "</div>"
            ],
            "text/plain": [
              "   Sex   \"Weight (Sep)\"   \"Weight (Apr)\"   \"BMI (Sep)\"   \"BMI (Apr)\"\n",
              "4    F               68               64         21.51         20.10\n",
              "6    F               64               60         24.24         22.88\n",
              "7    F               56               53         21.23         20.23\n",
              "8    F               70               68         30.26         29.24\n",
              "9    F               58               56         21.88         21.02\n",
              "10   F               50               47         17.63         16.89\n",
              "13   F               56               55         20.97         20.36\n",
              "14   F               70               68         27.30         26.73\n",
              "15   F               61               60         23.30         22.88\n",
              "16   F               53               52         19.48         19.24\n",
              "18   F               57               58         20.69         20.79\n",
              "20   F               58               58         21.09         21.24\n",
              "21   F               49               50         18.37         18.53\n",
              "23   F               69               69         28.17         28.43\n",
              "27   F               52               53         19.31         19.75\n",
              "29   F               63               64         21.78         22.22\n",
              "30   F               56               57         19.78         20.23\n",
              "33   F               54               56         20.15         20.69\n",
              "36   F               57               59         22.15         22.93\n",
              "37   F               63               65         23.87         24.67\n",
              "38   F               54               56         18.61         19.34\n",
              "39   F               56               58         21.73         22.58\n",
              "43   F               63               66         21.89         22.79\n",
              "44   F               51               54         18.31         19.28\n",
              "45   F               59               62         19.64         20.63\n",
              "46   F               65               68         23.02         24.10\n",
              "47   F               53               56         20.63         21.91\n",
              "48   F               62               65         22.61         23.81\n",
              "49   F               55               58         22.03         23.42\n",
              "54   F               57               61         23.47         25.11\n",
              "55   F               64               68         22.84         24.29\n",
              "56   F               60               64         19.50         20.90\n",
              "59   F               52               57         17.72         19.42\n",
              "61   F               55               60         21.64         23.81\n",
              "64   F               42               49         15.08         17.74"
            ]
          },
          "metadata": {},
          "execution_count": 111
        }
      ]
    },
    {
      "cell_type": "code",
      "metadata": {
        "colab": {
          "base_uri": "https://localhost:8080/",
          "height": 1000
        },
        "id": "7_OOLwLhtVGQ",
        "outputId": "86f5eb90-2420-45a0-ba55-3b63a660345c"
      },
      "source": [
        "df6.loc[df6[\"Sex\"] == \"F\"]"
      ],
      "execution_count": 49,
      "outputs": [
        {
          "output_type": "execute_result",
          "data": {
            "text/html": [
              "<div>\n",
              "<style scoped>\n",
              "    .dataframe tbody tr th:only-of-type {\n",
              "        vertical-align: middle;\n",
              "    }\n",
              "\n",
              "    .dataframe tbody tr th {\n",
              "        vertical-align: top;\n",
              "    }\n",
              "\n",
              "    .dataframe thead th {\n",
              "        text-align: right;\n",
              "    }\n",
              "</style>\n",
              "<table border=\"1\" class=\"dataframe\">\n",
              "  <thead>\n",
              "    <tr style=\"text-align: right;\">\n",
              "      <th></th>\n",
              "      <th>Sex</th>\n",
              "      <th>\"Weight (Sep)\"</th>\n",
              "      <th>\"Weight (Apr)\"</th>\n",
              "      <th>\"BMI (Sep)\"</th>\n",
              "      <th>\"BMI (Apr)\"</th>\n",
              "    </tr>\n",
              "  </thead>\n",
              "  <tbody>\n",
              "    <tr>\n",
              "      <th>4</th>\n",
              "      <td>F</td>\n",
              "      <td>68</td>\n",
              "      <td>64</td>\n",
              "      <td>21.51</td>\n",
              "      <td>20.10</td>\n",
              "    </tr>\n",
              "    <tr>\n",
              "      <th>6</th>\n",
              "      <td>F</td>\n",
              "      <td>64</td>\n",
              "      <td>60</td>\n",
              "      <td>24.24</td>\n",
              "      <td>22.88</td>\n",
              "    </tr>\n",
              "    <tr>\n",
              "      <th>7</th>\n",
              "      <td>F</td>\n",
              "      <td>56</td>\n",
              "      <td>53</td>\n",
              "      <td>21.23</td>\n",
              "      <td>20.23</td>\n",
              "    </tr>\n",
              "    <tr>\n",
              "      <th>8</th>\n",
              "      <td>F</td>\n",
              "      <td>70</td>\n",
              "      <td>68</td>\n",
              "      <td>30.26</td>\n",
              "      <td>29.24</td>\n",
              "    </tr>\n",
              "    <tr>\n",
              "      <th>9</th>\n",
              "      <td>F</td>\n",
              "      <td>58</td>\n",
              "      <td>56</td>\n",
              "      <td>21.88</td>\n",
              "      <td>21.02</td>\n",
              "    </tr>\n",
              "    <tr>\n",
              "      <th>10</th>\n",
              "      <td>F</td>\n",
              "      <td>50</td>\n",
              "      <td>47</td>\n",
              "      <td>17.63</td>\n",
              "      <td>16.89</td>\n",
              "    </tr>\n",
              "    <tr>\n",
              "      <th>13</th>\n",
              "      <td>F</td>\n",
              "      <td>56</td>\n",
              "      <td>55</td>\n",
              "      <td>20.97</td>\n",
              "      <td>20.36</td>\n",
              "    </tr>\n",
              "    <tr>\n",
              "      <th>14</th>\n",
              "      <td>F</td>\n",
              "      <td>70</td>\n",
              "      <td>68</td>\n",
              "      <td>27.30</td>\n",
              "      <td>26.73</td>\n",
              "    </tr>\n",
              "    <tr>\n",
              "      <th>15</th>\n",
              "      <td>F</td>\n",
              "      <td>61</td>\n",
              "      <td>60</td>\n",
              "      <td>23.30</td>\n",
              "      <td>22.88</td>\n",
              "    </tr>\n",
              "    <tr>\n",
              "      <th>16</th>\n",
              "      <td>F</td>\n",
              "      <td>53</td>\n",
              "      <td>52</td>\n",
              "      <td>19.48</td>\n",
              "      <td>19.24</td>\n",
              "    </tr>\n",
              "    <tr>\n",
              "      <th>18</th>\n",
              "      <td>F</td>\n",
              "      <td>57</td>\n",
              "      <td>58</td>\n",
              "      <td>20.69</td>\n",
              "      <td>20.79</td>\n",
              "    </tr>\n",
              "    <tr>\n",
              "      <th>20</th>\n",
              "      <td>F</td>\n",
              "      <td>58</td>\n",
              "      <td>58</td>\n",
              "      <td>21.09</td>\n",
              "      <td>21.24</td>\n",
              "    </tr>\n",
              "    <tr>\n",
              "      <th>21</th>\n",
              "      <td>F</td>\n",
              "      <td>49</td>\n",
              "      <td>50</td>\n",
              "      <td>18.37</td>\n",
              "      <td>18.53</td>\n",
              "    </tr>\n",
              "    <tr>\n",
              "      <th>23</th>\n",
              "      <td>F</td>\n",
              "      <td>69</td>\n",
              "      <td>69</td>\n",
              "      <td>28.17</td>\n",
              "      <td>28.43</td>\n",
              "    </tr>\n",
              "    <tr>\n",
              "      <th>27</th>\n",
              "      <td>F</td>\n",
              "      <td>52</td>\n",
              "      <td>53</td>\n",
              "      <td>19.31</td>\n",
              "      <td>19.75</td>\n",
              "    </tr>\n",
              "    <tr>\n",
              "      <th>29</th>\n",
              "      <td>F</td>\n",
              "      <td>63</td>\n",
              "      <td>64</td>\n",
              "      <td>21.78</td>\n",
              "      <td>22.22</td>\n",
              "    </tr>\n",
              "    <tr>\n",
              "      <th>30</th>\n",
              "      <td>F</td>\n",
              "      <td>56</td>\n",
              "      <td>57</td>\n",
              "      <td>19.78</td>\n",
              "      <td>20.23</td>\n",
              "    </tr>\n",
              "    <tr>\n",
              "      <th>33</th>\n",
              "      <td>F</td>\n",
              "      <td>54</td>\n",
              "      <td>56</td>\n",
              "      <td>20.15</td>\n",
              "      <td>20.69</td>\n",
              "    </tr>\n",
              "    <tr>\n",
              "      <th>36</th>\n",
              "      <td>F</td>\n",
              "      <td>57</td>\n",
              "      <td>59</td>\n",
              "      <td>22.15</td>\n",
              "      <td>22.93</td>\n",
              "    </tr>\n",
              "    <tr>\n",
              "      <th>37</th>\n",
              "      <td>F</td>\n",
              "      <td>63</td>\n",
              "      <td>65</td>\n",
              "      <td>23.87</td>\n",
              "      <td>24.67</td>\n",
              "    </tr>\n",
              "    <tr>\n",
              "      <th>38</th>\n",
              "      <td>F</td>\n",
              "      <td>54</td>\n",
              "      <td>56</td>\n",
              "      <td>18.61</td>\n",
              "      <td>19.34</td>\n",
              "    </tr>\n",
              "    <tr>\n",
              "      <th>39</th>\n",
              "      <td>F</td>\n",
              "      <td>56</td>\n",
              "      <td>58</td>\n",
              "      <td>21.73</td>\n",
              "      <td>22.58</td>\n",
              "    </tr>\n",
              "    <tr>\n",
              "      <th>43</th>\n",
              "      <td>F</td>\n",
              "      <td>63</td>\n",
              "      <td>66</td>\n",
              "      <td>21.89</td>\n",
              "      <td>22.79</td>\n",
              "    </tr>\n",
              "    <tr>\n",
              "      <th>44</th>\n",
              "      <td>F</td>\n",
              "      <td>51</td>\n",
              "      <td>54</td>\n",
              "      <td>18.31</td>\n",
              "      <td>19.28</td>\n",
              "    </tr>\n",
              "    <tr>\n",
              "      <th>45</th>\n",
              "      <td>F</td>\n",
              "      <td>59</td>\n",
              "      <td>62</td>\n",
              "      <td>19.64</td>\n",
              "      <td>20.63</td>\n",
              "    </tr>\n",
              "    <tr>\n",
              "      <th>46</th>\n",
              "      <td>F</td>\n",
              "      <td>65</td>\n",
              "      <td>68</td>\n",
              "      <td>23.02</td>\n",
              "      <td>24.10</td>\n",
              "    </tr>\n",
              "    <tr>\n",
              "      <th>47</th>\n",
              "      <td>F</td>\n",
              "      <td>53</td>\n",
              "      <td>56</td>\n",
              "      <td>20.63</td>\n",
              "      <td>21.91</td>\n",
              "    </tr>\n",
              "    <tr>\n",
              "      <th>48</th>\n",
              "      <td>F</td>\n",
              "      <td>62</td>\n",
              "      <td>65</td>\n",
              "      <td>22.61</td>\n",
              "      <td>23.81</td>\n",
              "    </tr>\n",
              "    <tr>\n",
              "      <th>49</th>\n",
              "      <td>F</td>\n",
              "      <td>55</td>\n",
              "      <td>58</td>\n",
              "      <td>22.03</td>\n",
              "      <td>23.42</td>\n",
              "    </tr>\n",
              "    <tr>\n",
              "      <th>54</th>\n",
              "      <td>F</td>\n",
              "      <td>57</td>\n",
              "      <td>61</td>\n",
              "      <td>23.47</td>\n",
              "      <td>25.11</td>\n",
              "    </tr>\n",
              "    <tr>\n",
              "      <th>55</th>\n",
              "      <td>F</td>\n",
              "      <td>64</td>\n",
              "      <td>68</td>\n",
              "      <td>22.84</td>\n",
              "      <td>24.29</td>\n",
              "    </tr>\n",
              "    <tr>\n",
              "      <th>56</th>\n",
              "      <td>F</td>\n",
              "      <td>60</td>\n",
              "      <td>64</td>\n",
              "      <td>19.50</td>\n",
              "      <td>20.90</td>\n",
              "    </tr>\n",
              "    <tr>\n",
              "      <th>59</th>\n",
              "      <td>F</td>\n",
              "      <td>52</td>\n",
              "      <td>57</td>\n",
              "      <td>17.72</td>\n",
              "      <td>19.42</td>\n",
              "    </tr>\n",
              "    <tr>\n",
              "      <th>61</th>\n",
              "      <td>F</td>\n",
              "      <td>55</td>\n",
              "      <td>60</td>\n",
              "      <td>21.64</td>\n",
              "      <td>23.81</td>\n",
              "    </tr>\n",
              "    <tr>\n",
              "      <th>64</th>\n",
              "      <td>F</td>\n",
              "      <td>42</td>\n",
              "      <td>49</td>\n",
              "      <td>15.08</td>\n",
              "      <td>17.74</td>\n",
              "    </tr>\n",
              "  </tbody>\n",
              "</table>\n",
              "</div>"
            ],
            "text/plain": [
              "   Sex   \"Weight (Sep)\"   \"Weight (Apr)\"   \"BMI (Sep)\"   \"BMI (Apr)\"\n",
              "4    F               68               64         21.51         20.10\n",
              "6    F               64               60         24.24         22.88\n",
              "7    F               56               53         21.23         20.23\n",
              "8    F               70               68         30.26         29.24\n",
              "9    F               58               56         21.88         21.02\n",
              "10   F               50               47         17.63         16.89\n",
              "13   F               56               55         20.97         20.36\n",
              "14   F               70               68         27.30         26.73\n",
              "15   F               61               60         23.30         22.88\n",
              "16   F               53               52         19.48         19.24\n",
              "18   F               57               58         20.69         20.79\n",
              "20   F               58               58         21.09         21.24\n",
              "21   F               49               50         18.37         18.53\n",
              "23   F               69               69         28.17         28.43\n",
              "27   F               52               53         19.31         19.75\n",
              "29   F               63               64         21.78         22.22\n",
              "30   F               56               57         19.78         20.23\n",
              "33   F               54               56         20.15         20.69\n",
              "36   F               57               59         22.15         22.93\n",
              "37   F               63               65         23.87         24.67\n",
              "38   F               54               56         18.61         19.34\n",
              "39   F               56               58         21.73         22.58\n",
              "43   F               63               66         21.89         22.79\n",
              "44   F               51               54         18.31         19.28\n",
              "45   F               59               62         19.64         20.63\n",
              "46   F               65               68         23.02         24.10\n",
              "47   F               53               56         20.63         21.91\n",
              "48   F               62               65         22.61         23.81\n",
              "49   F               55               58         22.03         23.42\n",
              "54   F               57               61         23.47         25.11\n",
              "55   F               64               68         22.84         24.29\n",
              "56   F               60               64         19.50         20.90\n",
              "59   F               52               57         17.72         19.42\n",
              "61   F               55               60         21.64         23.81\n",
              "64   F               42               49         15.08         17.74"
            ]
          },
          "metadata": {},
          "execution_count": 49
        }
      ]
    },
    {
      "cell_type": "code",
      "metadata": {
        "colab": {
          "base_uri": "https://localhost:8080/"
        },
        "id": "BAHzKTBjvVIO",
        "outputId": "300f03da-f3da-44cd-897b-c4851848312f"
      },
      "source": [
        "dfan = df6.loc[:, 'Sex'] == \"F\"\n",
        "print(dfan)"
      ],
      "execution_count": 48,
      "outputs": [
        {
          "output_type": "stream",
          "name": "stdout",
          "text": [
            "0     False\n",
            "1     False\n",
            "2     False\n",
            "3     False\n",
            "4      True\n",
            "      ...  \n",
            "62    False\n",
            "63    False\n",
            "64     True\n",
            "65    False\n",
            "66    False\n",
            "Name: Sex, Length: 67, dtype: bool\n"
          ]
        }
      ]
    },
    {
      "cell_type": "markdown",
      "metadata": {
        "id": "vXplXWBV-mA8"
      },
      "source": [
        "## Visualisasi Data"
      ]
    },
    {
      "cell_type": "markdown",
      "metadata": {
        "id": "6NobwuVw-v3k"
      },
      "source": [
        "### Dengan Matplotlib"
      ]
    },
    {
      "cell_type": "code",
      "metadata": {
        "id": "aiQmw5bZDG4b"
      },
      "source": [
        "import matplotlib.pyplot as plt"
      ],
      "execution_count": 50,
      "outputs": []
    },
    {
      "cell_type": "code",
      "metadata": {
        "colab": {
          "base_uri": "https://localhost:8080/",
          "height": 354
        },
        "id": "_G4GenFmDHph",
        "outputId": "5d7787f8-90cd-4853-9dfb-1a1bcfa36560"
      },
      "source": [
        "#Line Chart\n",
        "df6[[' \"Weight (Sep)\"', ' \"BMI (Sep)\"']].plot(kind='line', \n",
        "             figsize=(10, 5))\n",
        "\n",
        "plt.title('Perbandingan berat dan BMI bulan september', fontsize = 20)\n",
        "plt.ylabel('nilai', fontsize = 10)\n",
        "plt.xlabel('peserta', fontsize = 10)\n",
        "\n",
        "plt.show()"
      ],
      "execution_count": 51,
      "outputs": [
        {
          "output_type": "display_data",
          "data": {
            "image/png": "[encoded data removed]",
            "text/plain": [
              "<Figure size 720x360 with 1 Axes>"
            ]
          },
          "metadata": {
            "needs_background": "light"
          }
        }
      ]
    },
    {
      "cell_type": "code",
      "metadata": {
        "id": "l5YpGzJ4Laub",
        "colab": {
          "base_uri": "https://localhost:8080/",
          "height": 408
        },
        "outputId": "c3aa37ce-952c-443d-8da3-905ab2d06c0b"
      },
      "source": [
        "#ScatterPlot\n",
        "df6[[' \"Weight (Sep)\"', ' \"Weight (Apr)\"']].plot(kind='scatter', x=' \"Weight (Sep)\"', y=' \"Weight (Apr)\"', \n",
        "                                                 figsize=(10, 6), color='darkblue')\n",
        "\n",
        "plt.title('Hubungan berat badan bulan september dan april', fontsize = 20)\n",
        "plt.ylabel('April', fontsize = 10)\n",
        "plt.xlabel('September', fontsize = 10)\n",
        "\n",
        "plt.show()"
      ],
      "execution_count": 52,
      "outputs": [
        {
          "output_type": "display_data",
          "data": {
            "image/png": "[encoded data removed]",
            "text/plain": [
              "<Figure size 720x432 with 1 Axes>"
            ]
          },
          "metadata": {
            "needs_background": "light"
          }
        }
      ]
    },
    {
      "cell_type": "markdown",
      "metadata": {
        "id": "py8d7sL__JVC"
      },
      "source": [
        "Scatter plotnya seperti membentuk garis lurus miring kanan, artinya hubungan berat badan bulan april dan september erat dan positif (selengkapnya akan dipelajari di materi eksplorasi data)"
      ]
    },
    {
      "cell_type": "code",
      "metadata": {
        "colab": {
          "base_uri": "https://localhost:8080/",
          "height": 354
        },
        "id": "uNSqlFeewjYg",
        "outputId": "ef34a799-0904-46f6-ddfa-c1ffb37cb9b9"
      },
      "source": [
        "#Line Chart\n",
        "df6[[' \"Weight (Apr)\"', ' \"Weight (Sep)\"']].plot(kind='line', \n",
        "             figsize=(10, 5))\n",
        "\n",
        "plt.title('Hubungan berat badan bulan september dan april', fontsize = 20)\n",
        "plt.ylabel('nilai', fontsize = 10)\n",
        "plt.xlabel('nomor peserta', fontsize = 10)\n",
        "\n",
        "plt.show()"
      ],
      "execution_count": 56,
      "outputs": [
        {
          "output_type": "display_data",
          "data": {
            "image/png": "[encoded data removed]",
            "text/plain": [
              "<Figure size 720x360 with 1 Axes>"
            ]
          },
          "metadata": {
            "needs_background": "light"
          }
        }
      ]
    },
    {
      "cell_type": "code",
      "metadata": {
        "id": "6OW8qF9l-3GO",
        "colab": {
          "base_uri": "https://localhost:8080/",
          "height": 350
        },
        "outputId": "ae163fa6-3224-47ec-f67d-5145950619b8"
      },
      "source": [
        "#Histogram\n",
        "df6[' \"Weight (Apr)\"'].plot(kind='hist', figsize=(7, 5))\n",
        "\n",
        "plt.title('Histogram dari berat badan bulan april')\n",
        "plt.ylabel('frequensi')\n",
        "plt.xlabel('berat')\n",
        "\n",
        "plt.show()"
      ],
      "execution_count": 57,
      "outputs": [
        {
          "output_type": "display_data",
          "data": {
            "image/png": "[encoded data removed]",
            "text/plain": [
              "<Figure size 504x360 with 1 Axes>"
            ]
          },
          "metadata": {
            "needs_background": "light"
          }
        }
      ]
    },
    {
      "cell_type": "code",
      "metadata": {
        "colab": {
          "base_uri": "https://localhost:8080/",
          "height": 1000
        },
        "id": "HoyjDBDiyRod",
        "outputId": "e1f92f87-eec2-4792-fead-6d98757c922d"
      },
      "source": [
        "df6[df6['Sex']=='M']"
      ],
      "execution_count": 61,
      "outputs": [
        {
          "output_type": "execute_result",
          "data": {
            "text/html": [
              "<div>\n",
              "<style scoped>\n",
              "    .dataframe tbody tr th:only-of-type {\n",
              "        vertical-align: middle;\n",
              "    }\n",
              "\n",
              "    .dataframe tbody tr th {\n",
              "        vertical-align: top;\n",
              "    }\n",
              "\n",
              "    .dataframe thead th {\n",
              "        text-align: right;\n",
              "    }\n",
              "</style>\n",
              "<table border=\"1\" class=\"dataframe\">\n",
              "  <thead>\n",
              "    <tr style=\"text-align: right;\">\n",
              "      <th></th>\n",
              "      <th>Sex</th>\n",
              "      <th>\"Weight (Sep)\"</th>\n",
              "      <th>\"Weight (Apr)\"</th>\n",
              "      <th>\"BMI (Sep)\"</th>\n",
              "      <th>\"BMI (Apr)\"</th>\n",
              "    </tr>\n",
              "  </thead>\n",
              "  <tbody>\n",
              "    <tr>\n",
              "      <th>0</th>\n",
              "      <td>M</td>\n",
              "      <td>72</td>\n",
              "      <td>59</td>\n",
              "      <td>22.02</td>\n",
              "      <td>18.14</td>\n",
              "    </tr>\n",
              "    <tr>\n",
              "      <th>1</th>\n",
              "      <td>M</td>\n",
              "      <td>97</td>\n",
              "      <td>86</td>\n",
              "      <td>19.70</td>\n",
              "      <td>17.44</td>\n",
              "    </tr>\n",
              "    <tr>\n",
              "      <th>2</th>\n",
              "      <td>M</td>\n",
              "      <td>74</td>\n",
              "      <td>69</td>\n",
              "      <td>24.09</td>\n",
              "      <td>22.43</td>\n",
              "    </tr>\n",
              "    <tr>\n",
              "      <th>3</th>\n",
              "      <td>M</td>\n",
              "      <td>93</td>\n",
              "      <td>88</td>\n",
              "      <td>26.97</td>\n",
              "      <td>25.57</td>\n",
              "    </tr>\n",
              "    <tr>\n",
              "      <th>5</th>\n",
              "      <td>M</td>\n",
              "      <td>59</td>\n",
              "      <td>55</td>\n",
              "      <td>18.69</td>\n",
              "      <td>17.40</td>\n",
              "    </tr>\n",
              "    <tr>\n",
              "      <th>11</th>\n",
              "      <td>M</td>\n",
              "      <td>71</td>\n",
              "      <td>69</td>\n",
              "      <td>24.57</td>\n",
              "      <td>23.85</td>\n",
              "    </tr>\n",
              "    <tr>\n",
              "      <th>12</th>\n",
              "      <td>M</td>\n",
              "      <td>67</td>\n",
              "      <td>66</td>\n",
              "      <td>20.68</td>\n",
              "      <td>20.15</td>\n",
              "    </tr>\n",
              "    <tr>\n",
              "      <th>17</th>\n",
              "      <td>M</td>\n",
              "      <td>92</td>\n",
              "      <td>92</td>\n",
              "      <td>24.74</td>\n",
              "      <td>24.69</td>\n",
              "    </tr>\n",
              "    <tr>\n",
              "      <th>19</th>\n",
              "      <td>M</td>\n",
              "      <td>67</td>\n",
              "      <td>67</td>\n",
              "      <td>20.49</td>\n",
              "      <td>20.60</td>\n",
              "    </tr>\n",
              "    <tr>\n",
              "      <th>22</th>\n",
              "      <td>M</td>\n",
              "      <td>68</td>\n",
              "      <td>68</td>\n",
              "      <td>22.40</td>\n",
              "      <td>22.61</td>\n",
              "    </tr>\n",
              "    <tr>\n",
              "      <th>24</th>\n",
              "      <td>M</td>\n",
              "      <td>87</td>\n",
              "      <td>88</td>\n",
              "      <td>23.60</td>\n",
              "      <td>23.81</td>\n",
              "    </tr>\n",
              "    <tr>\n",
              "      <th>25</th>\n",
              "      <td>M</td>\n",
              "      <td>81</td>\n",
              "      <td>82</td>\n",
              "      <td>26.52</td>\n",
              "      <td>26.78</td>\n",
              "    </tr>\n",
              "    <tr>\n",
              "      <th>26</th>\n",
              "      <td>M</td>\n",
              "      <td>60</td>\n",
              "      <td>61</td>\n",
              "      <td>18.89</td>\n",
              "      <td>19.27</td>\n",
              "    </tr>\n",
              "    <tr>\n",
              "      <th>28</th>\n",
              "      <td>M</td>\n",
              "      <td>70</td>\n",
              "      <td>71</td>\n",
              "      <td>20.96</td>\n",
              "      <td>21.32</td>\n",
              "    </tr>\n",
              "    <tr>\n",
              "      <th>31</th>\n",
              "      <td>M</td>\n",
              "      <td>68</td>\n",
              "      <td>69</td>\n",
              "      <td>22.40</td>\n",
              "      <td>22.82</td>\n",
              "    </tr>\n",
              "    <tr>\n",
              "      <th>32</th>\n",
              "      <td>M</td>\n",
              "      <td>68</td>\n",
              "      <td>69</td>\n",
              "      <td>22.76</td>\n",
              "      <td>23.19</td>\n",
              "    </tr>\n",
              "    <tr>\n",
              "      <th>34</th>\n",
              "      <td>M</td>\n",
              "      <td>80</td>\n",
              "      <td>82</td>\n",
              "      <td>22.14</td>\n",
              "      <td>22.57</td>\n",
              "    </tr>\n",
              "    <tr>\n",
              "      <th>35</th>\n",
              "      <td>M</td>\n",
              "      <td>64</td>\n",
              "      <td>66</td>\n",
              "      <td>20.27</td>\n",
              "      <td>20.76</td>\n",
              "    </tr>\n",
              "    <tr>\n",
              "      <th>40</th>\n",
              "      <td>M</td>\n",
              "      <td>54</td>\n",
              "      <td>56</td>\n",
              "      <td>18.93</td>\n",
              "      <td>19.72</td>\n",
              "    </tr>\n",
              "    <tr>\n",
              "      <th>41</th>\n",
              "      <td>M</td>\n",
              "      <td>73</td>\n",
              "      <td>75</td>\n",
              "      <td>25.88</td>\n",
              "      <td>26.72</td>\n",
              "    </tr>\n",
              "    <tr>\n",
              "      <th>42</th>\n",
              "      <td>M</td>\n",
              "      <td>77</td>\n",
              "      <td>79</td>\n",
              "      <td>28.59</td>\n",
              "      <td>29.53</td>\n",
              "    </tr>\n",
              "    <tr>\n",
              "      <th>50</th>\n",
              "      <td>M</td>\n",
              "      <td>74</td>\n",
              "      <td>77</td>\n",
              "      <td>20.31</td>\n",
              "      <td>21.34</td>\n",
              "    </tr>\n",
              "    <tr>\n",
              "      <th>51</th>\n",
              "      <td>M</td>\n",
              "      <td>74</td>\n",
              "      <td>78</td>\n",
              "      <td>20.31</td>\n",
              "      <td>21.36</td>\n",
              "    </tr>\n",
              "    <tr>\n",
              "      <th>52</th>\n",
              "      <td>M</td>\n",
              "      <td>64</td>\n",
              "      <td>68</td>\n",
              "      <td>19.59</td>\n",
              "      <td>20.77</td>\n",
              "    </tr>\n",
              "    <tr>\n",
              "      <th>53</th>\n",
              "      <td>M</td>\n",
              "      <td>64</td>\n",
              "      <td>68</td>\n",
              "      <td>21.05</td>\n",
              "      <td>22.31</td>\n",
              "    </tr>\n",
              "    <tr>\n",
              "      <th>57</th>\n",
              "      <td>M</td>\n",
              "      <td>64</td>\n",
              "      <td>68</td>\n",
              "      <td>18.51</td>\n",
              "      <td>19.83</td>\n",
              "    </tr>\n",
              "    <tr>\n",
              "      <th>58</th>\n",
              "      <td>M</td>\n",
              "      <td>66</td>\n",
              "      <td>71</td>\n",
              "      <td>21.40</td>\n",
              "      <td>22.97</td>\n",
              "    </tr>\n",
              "    <tr>\n",
              "      <th>60</th>\n",
              "      <td>M</td>\n",
              "      <td>71</td>\n",
              "      <td>77</td>\n",
              "      <td>22.26</td>\n",
              "      <td>23.87</td>\n",
              "    </tr>\n",
              "    <tr>\n",
              "      <th>62</th>\n",
              "      <td>M</td>\n",
              "      <td>65</td>\n",
              "      <td>71</td>\n",
              "      <td>22.51</td>\n",
              "      <td>24.45</td>\n",
              "    </tr>\n",
              "    <tr>\n",
              "      <th>63</th>\n",
              "      <td>M</td>\n",
              "      <td>75</td>\n",
              "      <td>82</td>\n",
              "      <td>23.69</td>\n",
              "      <td>25.80</td>\n",
              "    </tr>\n",
              "    <tr>\n",
              "      <th>65</th>\n",
              "      <td>M</td>\n",
              "      <td>74</td>\n",
              "      <td>82</td>\n",
              "      <td>22.64</td>\n",
              "      <td>25.33</td>\n",
              "    </tr>\n",
              "    <tr>\n",
              "      <th>66</th>\n",
              "      <td>M</td>\n",
              "      <td>94</td>\n",
              "      <td>105</td>\n",
              "      <td>36.57</td>\n",
              "      <td>40.86</td>\n",
              "    </tr>\n",
              "  </tbody>\n",
              "</table>\n",
              "</div>"
            ],
            "text/plain": [
              "   Sex   \"Weight (Sep)\"   \"Weight (Apr)\"   \"BMI (Sep)\"   \"BMI (Apr)\"\n",
              "0    M               72               59         22.02         18.14\n",
              "1    M               97               86         19.70         17.44\n",
              "2    M               74               69         24.09         22.43\n",
              "3    M               93               88         26.97         25.57\n",
              "5    M               59               55         18.69         17.40\n",
              "11   M               71               69         24.57         23.85\n",
              "12   M               67               66         20.68         20.15\n",
              "17   M               92               92         24.74         24.69\n",
              "19   M               67               67         20.49         20.60\n",
              "22   M               68               68         22.40         22.61\n",
              "24   M               87               88         23.60         23.81\n",
              "25   M               81               82         26.52         26.78\n",
              "26   M               60               61         18.89         19.27\n",
              "28   M               70               71         20.96         21.32\n",
              "31   M               68               69         22.40         22.82\n",
              "32   M               68               69         22.76         23.19\n",
              "34   M               80               82         22.14         22.57\n",
              "35   M               64               66         20.27         20.76\n",
              "40   M               54               56         18.93         19.72\n",
              "41   M               73               75         25.88         26.72\n",
              "42   M               77               79         28.59         29.53\n",
              "50   M               74               77         20.31         21.34\n",
              "51   M               74               78         20.31         21.36\n",
              "52   M               64               68         19.59         20.77\n",
              "53   M               64               68         21.05         22.31\n",
              "57   M               64               68         18.51         19.83\n",
              "58   M               66               71         21.40         22.97\n",
              "60   M               71               77         22.26         23.87\n",
              "62   M               65               71         22.51         24.45\n",
              "63   M               75               82         23.69         25.80\n",
              "65   M               74               82         22.64         25.33\n",
              "66   M               94              105         36.57         40.86"
            ]
          },
          "metadata": {},
          "execution_count": 61
        }
      ]
    },
    {
      "cell_type": "code",
      "metadata": {
        "id": "OFdFu9AsJ4ei",
        "colab": {
          "base_uri": "https://localhost:8080/",
          "height": 335
        },
        "outputId": "52519d66-1f6a-4091-aeb2-715fc7c5411f"
      },
      "source": [
        "rata2berat_lk = df6[df6['Sex']=='M'][' \"Weight (Sep)\"'].mean()\n",
        "rata2berat_pr = df6[df6['Sex']=='F'][' \"Weight (Sep)\"'].mean()\n",
        "\n",
        "fig = plt.figure(figsize =(7, 5))\n",
        "plt.title('Bar Chart dari rata-rata berat badan Laki-laki dan Perempuan bulan September')\n",
        "berat = [rata2berat_lk, rata2berat_pr]\n",
        "bars = ('laki-laki', 'perempuan')\n",
        "kelompok = np.arange(len(bars))\n",
        "\n",
        "plt.bar(kelompok, berat)\n",
        "plt.xticks(kelompok, bars)\n",
        "\n",
        "plt.show()"
      ],
      "execution_count": 58,
      "outputs": [
        {
          "output_type": "display_data",
          "data": {
            "image/png": "[encoded data removed]",
            "text/plain": [
              "<Figure size 504x360 with 1 Axes>"
            ]
          },
          "metadata": {
            "needs_background": "light"
          }
        }
      ]
    },
    {
      "cell_type": "code",
      "metadata": {
        "id": "ov4Tv--0NV7v",
        "colab": {
          "base_uri": "https://localhost:8080/",
          "height": 303
        },
        "outputId": "43b952bd-bf9e-4097-f4a5-12cd3c286a43"
      },
      "source": [
        "# Pie chart\n",
        "labels = 'Laki-laki', 'Perempuan'\n",
        "jlh_anggota = np.array([len(df6[df6['Sex'] == 'M']), len(df6[df6['Sex'] == 'F'])])\n",
        "colors = ['blue', 'pink']\n",
        "fig = plt.figure(figsize =(7, 5))\n",
        "plt.pie(jlh_anggota, labels = labels, colors=colors)\n",
        "plt.show()"
      ],
      "execution_count": 62,
      "outputs": [
        {
          "output_type": "display_data",
          "data": {
            "image/png": "[encoded data removed]",
            "text/plain": [
              "<Figure size 504x360 with 1 Axes>"
            ]
          },
          "metadata": {}
        }
      ]
    },
    {
      "cell_type": "markdown",
      "metadata": {
        "id": "605babKcSl0c"
      },
      "source": [
        "### Dengan Seaborn"
      ]
    },
    {
      "cell_type": "code",
      "metadata": {
        "id": "7L2EA6EXO-DS"
      },
      "source": [
        "import seaborn as sns"
      ],
      "execution_count": 63,
      "outputs": []
    },
    {
      "cell_type": "code",
      "metadata": {
        "colab": {
          "base_uri": "https://localhost:8080/",
          "height": 284
        },
        "id": "rtfhQSerVEXB",
        "outputId": "82391bdc-1b9c-4fc0-98bf-152df7fd95a9"
      },
      "source": [
        "#LineChart\n",
        "sns.lineplot(data=df6[[' \"Weight (Sep)\"', ' \"BMI (Sep)\"']])"
      ],
      "execution_count": 64,
      "outputs": [
        {
          "output_type": "execute_result",
          "data": {
            "text/plain": [
              "<matplotlib.axes._subplots.AxesSubplot at 0x7fbdeae96a90>"
            ]
          },
          "metadata": {},
          "execution_count": 64
        },
        {
          "output_type": "display_data",
          "data": {
            "image/png": "[encoded data removed]",
            "text/plain": [
              "<Figure size 432x288 with 1 Axes>"
            ]
          },
          "metadata": {
            "needs_background": "light"
          }
        }
      ]
    },
    {
      "cell_type": "code",
      "metadata": {
        "colab": {
          "base_uri": "https://localhost:8080/",
          "height": 401
        },
        "id": "bnXKw0X3VblN",
        "outputId": "3734efdb-8aa6-45d5-8d09-1280124dd7f0"
      },
      "source": [
        "#ScatterPlot\n",
        "sns.relplot(x=' \"Weight (Sep)\"', y=' \"Weight (Apr)\"', data = df6)"
      ],
      "execution_count": 65,
      "outputs": [
        {
          "output_type": "execute_result",
          "data": {
            "text/plain": [
              "<seaborn.axisgrid.FacetGrid at 0x7fbdeae2a190>"
            ]
          },
          "metadata": {},
          "execution_count": 65
        },
        {
          "output_type": "display_data",
          "data": {
            "image/png": "[encoded data removed]",
            "text/plain": [
              "<Figure size 360x360 with 1 Axes>"
            ]
          },
          "metadata": {
            "needs_background": "light"
          }
        }
      ]
    },
    {
      "cell_type": "markdown",
      "metadata": {
        "id": "8E_3ApHG-qIC"
      },
      "source": [
        "Scatter plotnya seperti membentuk garis lurus miring kanan, artinya hubungan berat badan bulan april dan september erat dan positif (selengkapnya akan dipelajari di materi eksplorasi data)"
      ]
    },
    {
      "cell_type": "code",
      "metadata": {
        "colab": {
          "base_uri": "https://localhost:8080/",
          "height": 386
        },
        "id": "ZXq1VYeVWl3b",
        "outputId": "025d6286-c2d4-409a-fdfc-04ea78633124"
      },
      "source": [
        "#Histogram\n",
        "sns.displot(data=df6, x=' \"Weight (Apr)\"',hue=\"Sex\", kde=True)"
      ],
      "execution_count": 66,
      "outputs": [
        {
          "output_type": "execute_result",
          "data": {
            "text/plain": [
              "<seaborn.axisgrid.FacetGrid at 0x7fbdeadc0bd0>"
            ]
          },
          "metadata": {},
          "execution_count": 66
        },
        {
          "output_type": "display_data",
          "data": {
            "image/png": "[encoded data removed]",
            "text/plain": [
              "<Figure size 404.625x360 with 1 Axes>"
            ]
          },
          "metadata": {
            "needs_background": "light"
          }
        }
      ]
    },
    {
      "cell_type": "markdown",
      "metadata": {
        "id": "xR0rzImH-Zso"
      },
      "source": [
        "Terlihat data histogram per kategori laki-laki dan perempuan"
      ]
    },
    {
      "cell_type": "code",
      "metadata": {
        "colab": {
          "base_uri": "https://localhost:8080/",
          "height": 296
        },
        "id": "ceZrdlroX9iG",
        "outputId": "4f2ad221-ef5a-445e-e26f-a3e2e0ad2071"
      },
      "source": [
        "#boxplot\n",
        "sns.boxplot(data=df6, x=' \"Weight (Apr)\"')"
      ],
      "execution_count": null,
      "outputs": [
        {
          "output_type": "execute_result",
          "data": {
            "text/plain": [
              "<matplotlib.axes._subplots.AxesSubplot at 0x7f865d6ce710>"
            ]
          },
          "metadata": {},
          "execution_count": 105
        },
        {
          "output_type": "display_data",
          "data": {
            "image/png": "[encoded data removed]",
            "text/plain": [
              "<Figure size 432x288 with 1 Axes>"
            ]
          },
          "metadata": {
            "needs_background": "light"
          }
        }
      ]
    },
    {
      "cell_type": "markdown",
      "metadata": {
        "id": "6ovdYy-C97ch"
      },
      "source": [
        "Terlihat ada outlier di bagian atas"
      ]
    },
    {
      "cell_type": "code",
      "metadata": {
        "colab": {
          "base_uri": "https://localhost:8080/",
          "height": 400
        },
        "id": "deZlR5nPZndA",
        "outputId": "c1b77a8b-87f2-463d-9bb8-a1913a1f4a22"
      },
      "source": [
        "#Catplot\n",
        "sns.catplot(data=df6, x='Sex', y=' \"Weight (Apr)\"')"
      ],
      "execution_count": null,
      "outputs": [
        {
          "output_type": "execute_result",
          "data": {
            "text/plain": [
              "<seaborn.axisgrid.FacetGrid at 0x7f865f726950>"
            ]
          },
          "metadata": {},
          "execution_count": 106
        },
        {
          "output_type": "display_data",
          "data": {
            "image/png": "[encoded data removed]",
            "text/plain": [
              "<Figure size 360x360 with 1 Axes>"
            ]
          },
          "metadata": {
            "needs_background": "light"
          }
        }
      ]
    },
    {
      "cell_type": "markdown",
      "metadata": {
        "id": "DG0yiNxx-O9V"
      },
      "source": [
        "Sebaran data berat badan bulan april per kategori laki-laki dan perempuan"
      ]
    },
    {
      "cell_type": "code",
      "metadata": {
        "colab": {
          "base_uri": "https://localhost:8080/",
          "height": 395
        },
        "id": "QZdj2rxDbpze",
        "outputId": "cc3e9db3-3de4-4d8b-e6d6-c30b61f26785"
      },
      "source": [
        "#HeatmapKorelasi\n",
        "corrmat = df6.corr()\n",
        "f, ax = plt.subplots(figsize=(9, 6))\n",
        "sns.heatmap(corrmat, vmax=1)"
      ],
      "execution_count": null,
      "outputs": [
        {
          "output_type": "execute_result",
          "data": {
            "text/plain": [
              "<matplotlib.axes._subplots.AxesSubplot at 0x7f865d54dc50>"
            ]
          },
          "metadata": {},
          "execution_count": 108
        },
        {
          "output_type": "display_data",
          "data": {
            "image/png": "[encoded data removed]",
            "text/plain": [
              "<Figure size 648x432 with 2 Axes>"
            ]
          },
          "metadata": {
            "needs_background": "light"
          }
        }
      ]
    },
    {
      "cell_type": "markdown",
      "metadata": {
        "id": "1PbfvIND9tlJ"
      },
      "source": [
        "Warna merepresentasikan keeratan hubungan, bisa diliat di nilai hubungan/korelasinya bisa dilihat di penggaris sebelahnya"
      ]
    },
    {
      "cell_type": "markdown",
      "metadata": {
        "id": "DHsEXxrbcYxH"
      },
      "source": [
        "### Latihan-6 (Visualisasi data)\n",
        "\n",
        "Gunakan data dari: https://people.sc.fsu.edu/~jburkardt/data/csv/cities.csv\n",
        "\n",
        "Cari:\n",
        "*   Deskriptif data\n",
        "*   beberapa visualisasi datanya\n"
      ]
    },
    {
      "cell_type": "code",
      "metadata": {
        "id": "vxXMS8aOec-f"
      },
      "source": [
        "url = 'https://raw.githubusercontent.com/ayarzuki/Orbit-Futur-Academy/main/dataset/cities.csv'\n",
        "df_city = pd.read_csv(url)"
      ],
      "execution_count": 4,
      "outputs": []
    },
    {
      "cell_type": "code",
      "metadata": {
        "colab": {
          "base_uri": "https://localhost:8080/"
        },
        "id": "N420AeZpc9Mu",
        "outputId": "d880d4fc-6792-4e5b-c3ef-0cc99a78c36f"
      },
      "source": [
        "print(df_city)"
      ],
      "execution_count": 5,
      "outputs": [
        {
          "output_type": "stream",
          "name": "stdout",
          "text": [
            "     LatD   \"LatM\"   \"LatS\"  \"NS\"  ...   \"LonS\"   \"EW\"              \"City\"  \"State\"\n",
            "0      41        5       59   \"N\"  ...        0    \"W\"        \"Youngstown\"       OH\n",
            "1      42       52       48   \"N\"  ...       23    \"W\"           \"Yankton\"       SD\n",
            "2      46       35       59   \"N\"  ...       36    \"W\"            \"Yakima\"       WA\n",
            "3      42       16       12   \"N\"  ...        0    \"W\"         \"Worcester\"       MA\n",
            "4      43       37       48   \"N\"  ...       11    \"W\"   \"Wisconsin Dells\"       WI\n",
            "..    ...      ...      ...   ...  ...      ...    ...                 ...      ...\n",
            "123    39       31       12   \"N\"  ...       35    \"W\"              \"Reno\"       NV\n",
            "124    50       25       11   \"N\"  ...        0    \"W\"            \"Regina\"       SA\n",
            "125    40       10       48   \"N\"  ...       23    \"W\"         \"Red Bluff\"       CA\n",
            "126    40       19       48   \"N\"  ...       48    \"W\"           \"Reading\"       PA\n",
            "127    41        9       35   \"N\"  ...       23    \"W\"           \"Ravenna\"      OH \n",
            "\n",
            "[128 rows x 10 columns]\n"
          ]
        }
      ]
    },
    {
      "cell_type": "code",
      "metadata": {
        "colab": {
          "base_uri": "https://localhost:8080/"
        },
        "id": "1fmIdmSvdNXV",
        "outputId": "155a22b1-874c-4899-83f5-9f3385206bf0"
      },
      "source": [
        "#Nama-nama kolom\n",
        "print(df_city.columns)"
      ],
      "execution_count": 11,
      "outputs": [
        {
          "output_type": "stream",
          "name": "stdout",
          "text": [
            "Index(['LatD', ' \"LatM\"', ' \"LatS\"', ' \"NS\"', ' \"LonD\"', ' \"LonM\"', ' \"LonS\"',\n",
            "       ' \"EW\"', ' \"City\"', ' \"State\"'],\n",
            "      dtype='object')\n"
          ]
        }
      ]
    },
    {
      "cell_type": "code",
      "metadata": {
        "colab": {
          "base_uri": "https://localhost:8080/"
        },
        "id": "s9xpQm_CdWDp",
        "outputId": "bd7dee96-c60b-4517-c34c-f617bf46e4cc"
      },
      "source": [
        "df_city.describe"
      ],
      "execution_count": 7,
      "outputs": [
        {
          "output_type": "execute_result",
          "data": {
            "text/plain": [
              "<bound method NDFrame.describe of      LatD   \"LatM\"   \"LatS\"  \"NS\"  ...   \"LonS\"   \"EW\"              \"City\"  \"State\"\n",
              "0      41        5       59   \"N\"  ...        0    \"W\"        \"Youngstown\"       OH\n",
              "1      42       52       48   \"N\"  ...       23    \"W\"           \"Yankton\"       SD\n",
              "2      46       35       59   \"N\"  ...       36    \"W\"            \"Yakima\"       WA\n",
              "3      42       16       12   \"N\"  ...        0    \"W\"         \"Worcester\"       MA\n",
              "4      43       37       48   \"N\"  ...       11    \"W\"   \"Wisconsin Dells\"       WI\n",
              "..    ...      ...      ...   ...  ...      ...    ...                 ...      ...\n",
              "123    39       31       12   \"N\"  ...       35    \"W\"              \"Reno\"       NV\n",
              "124    50       25       11   \"N\"  ...        0    \"W\"            \"Regina\"       SA\n",
              "125    40       10       48   \"N\"  ...       23    \"W\"         \"Red Bluff\"       CA\n",
              "126    40       19       48   \"N\"  ...       48    \"W\"           \"Reading\"       PA\n",
              "127    41        9       35   \"N\"  ...       23    \"W\"           \"Ravenna\"      OH \n",
              "\n",
              "[128 rows x 10 columns]>"
            ]
          },
          "metadata": {},
          "execution_count": 7
        }
      ]
    },
    {
      "cell_type": "code",
      "metadata": {
        "colab": {
          "base_uri": "https://localhost:8080/"
        },
        "id": "2MH-BiHVdZfX",
        "outputId": "780d9443-ee1d-4886-d931-16c3789432ed"
      },
      "source": [
        "# Count total NaN at each column in a DataFrame\n",
        "print(\" \\nCount total NaN at each column in a DataFrame : \\n\\n\",\n",
        "      df_city.isnull().sum())"
      ],
      "execution_count": 10,
      "outputs": [
        {
          "output_type": "stream",
          "name": "stdout",
          "text": [
            " \n",
            "Count total NaN at each column in a DataFrame : \n",
            "\n",
            " LatD        0\n",
            " \"LatM\"     0\n",
            " \"LatS\"     0\n",
            " \"NS\"       0\n",
            " \"LonD\"     0\n",
            " \"LonM\"     0\n",
            " \"LonS\"     0\n",
            " \"EW\"       0\n",
            " \"City\"     0\n",
            " \"State\"    0\n",
            "dtype: int64\n"
          ]
        }
      ]
    },
    {
      "cell_type": "code",
      "metadata": {
        "id": "Zo2OkwVriYzF"
      },
      "source": [
        ""
      ],
      "execution_count": null,
      "outputs": []
    }
  ]
}