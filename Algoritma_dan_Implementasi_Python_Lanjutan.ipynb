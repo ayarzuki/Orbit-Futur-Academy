{
  "nbformat": 4,
  "nbformat_minor": 0,
  "metadata": {
    "colab": {
      "name": "Algoritma_dan_Implementasi_Python_Lanjutan.ipynb",
      "private_outputs": true,
      "provenance": [],
      "include_colab_link": true
    },
    "kernelspec": {
      "name": "python3",
      "display_name": "Python 3"
    },
    "language_info": {
      "name": "python"
    }
  },
  "cells": [
    {
      "cell_type": "markdown",
      "metadata": {
        "id": "view-in-github",
        "colab_type": "text"
      },
      "source": [
        "<a href=\"https://colab.research.google.com/github/ayarzuki/Orbit-Futur-Academy/blob/main/Algoritma_dan_Implementasi_Python_Lanjutan.ipynb\" target=\"_parent\"><img src=\"https://colab.research.google.com/assets/colab-badge.svg\" alt=\"Open In Colab\"/></a>"
      ]
    },
    {
      "cell_type": "markdown",
      "metadata": {
        "id": "bWe6NO_-YTMf"
      },
      "source": [
        "# Algoritma, Flowchat, dan Pengondisian **Lanjutan**"
      ]
    },
    {
      "cell_type": "markdown",
      "metadata": {
        "id": "eC_XsZ0-w8ms"
      },
      "source": [
        "Menghitung luas dan keliling Persegi"
      ]
    },
    {
      "cell_type": "code",
      "metadata": {
        "id": "lwXeIUbPYK1q"
      },
      "source": [
        "print(\"MENGHITUNG LUAS & KELILING PERSEGI\")\n",
        "\n",
        "s = float(input(\"\\nMasukan Panjang Sisi dalam cm: \"))\n",
        "\n",
        "luas = s**2\n",
        "keliling = 4 * s\n",
        "\n",
        "print(\"\\nLuas Persegi \\t\\t:\",luas, \"cm^2\")\n",
        "print(\"Keliling Persegi\\t:\",keliling, \"cm\")"
      ],
      "execution_count": null,
      "outputs": []
    },
    {
      "cell_type": "code",
      "metadata": {
        "id": "NPSHRHK2MFv1"
      },
      "source": [
        "# GUNAKAN KODE INI UNTUK PRAKTIK #\n",
        "\n",
        "print(\"MENGHITUNG LUAS & KELILING PERSEGI\")\n",
        "\n",
        "s = float(input(\"\\nMasukan Panjang Sisi dalam cm: \"))\n",
        "\n",
        "luas = s**2\n",
        "keliling = 4 * s\n",
        "\n",
        "print(\"\\nLuas Persegi \\t\\t:\",luas, \"cm^2\")\n",
        "print(\"Keliling Persegi\\t:\",keliling, \"cm\")"
      ],
      "execution_count": null,
      "outputs": []
    },
    {
      "cell_type": "markdown",
      "metadata": {
        "id": "Oy6jK1gcxLu9"
      },
      "source": [
        "Menghitung Volume dan Luas Permukaan Bola"
      ]
    },
    {
      "cell_type": "code",
      "metadata": {
        "id": "o34A02DUw6UQ"
      },
      "source": [
        "\n",
        "print(\"MENGHITUNG VOLUME & LUAS PERMUKAAN BOLA\")\n",
        "\n",
        "jari_jari = float(input(\"\\nMasukan jari-jari dalam cm: \"))\n",
        "\n",
        "phi = 3.14\n",
        "volume = 4/3 * phi * jari_jari**3\n",
        "luas_permukaan = 4 * phi * jari_jari**2\n",
        "\n",
        "print(\"\\nVolume Bola adalah \\t\\t:\",volume, \"cm^3\")\n",
        "print(\"Luas Permukaan Bola adalah\\t:\",luas_permukaan, \"cm^2\")"
      ],
      "execution_count": null,
      "outputs": []
    },
    {
      "cell_type": "code",
      "metadata": {
        "id": "hUdvnWSYMPYE"
      },
      "source": [
        "# GUNAKAN KODE INI UNTUK PRAKTIK #\n",
        "\n",
        "print(\"MENGHITUNG VOLUME & LUAS PERMUKAAN BOLA\")\n",
        "\n",
        "jari_jari = float(input(\"\\nMasukan jari-jari dalam cm: \"))\n",
        "\n",
        "phi = 3.14\n",
        "volume = 4/3 * phi * jari_jari**3\n",
        "luas_permukaan = 4 * phi * jari_jari**2\n",
        "\n",
        "print(\"\\nVolume Bola adalah \\t\\t:\",volume, \"cm^3\")\n",
        "print(\"Luas Permukaan Bola adalah\\t:\",luas_permukaan, \"cm^2\")"
      ],
      "execution_count": null,
      "outputs": []
    },
    {
      "cell_type": "markdown",
      "metadata": {
        "id": "s9npqktxMFBH"
      },
      "source": [
        "Percabangan pada konversi nilai desimal ke heksa, oktal, dan biner"
      ]
    },
    {
      "cell_type": "code",
      "metadata": {
        "id": "NoUC5sQ1xm7q"
      },
      "source": [
        "\n",
        "# program konversi bilangan sederhana \n",
        "# untuk membantu memahami terkait bilangan biner, oktal & heksademisal\n",
        "# program konversi bilangan desimal berbasis 10 \n",
        "\n",
        "\n",
        "\n",
        "number = int(input(\"Masukan bilangan berbasis 10 (Desimal)\\n\")) \n",
        "\n",
        "# Pilih konversi  \n",
        "print(\"a. Desimal menjadi Heksadesimal \") \n",
        "print(\"b. Desimal menjadi Oktal\") \n",
        "print(\"c. Desimal menjadi Biner\") \n",
        "\n",
        "# Memasukkan input \n",
        "print(\"Pilih konversi :- \") \n",
        "choice = input() \n",
        "\n",
        "# variable pemilihan\n",
        "# kondisi \n",
        "# Heksadesimal dipilih jika \"a\"\n",
        "\n",
        "if choice is 'a': \n",
        "\n",
        "\n",
        "\tprint(\"Heksademisal dari bilangan \" + str(number) +\n",
        "\t\t\" adalah \" + hex(number).lstrip(\"0x\").rstrip(\"L\")) \n",
        "\t\t\n",
        "if choice is 'b': \n",
        "\t\n",
        "\n",
        "\tprint(\"Oktal dari bilangan \" + str(number) +\n",
        "\t\t\" adalah \" + oct(number).lstrip(\"0o\").rstrip(\"L\")) \n",
        "\t\t\n",
        "if choice is 'c': \n",
        "\t\n",
        "\n",
        "\tprint(\"Biner dari bilangan \" + str(number) +\n",
        "\t\t\" adalah \"+bin(number).lstrip(\"0b\").rstrip(\"L\"))"
      ],
      "execution_count": null,
      "outputs": []
    },
    {
      "cell_type": "markdown",
      "metadata": {
        "id": "G4w8pNollvPf"
      },
      "source": [
        "Pecabangan model 1"
      ]
    },
    {
      "cell_type": "code",
      "metadata": {
        "id": "gHfiShf4lsp0"
      },
      "source": [
        "print(\"SELAMAT DATANG DI PROGRAM\\nMENGHITUNG VOLUME & LUAS PERMUKAAN BOLA\")\n",
        "\n",
        "jari_jari = float(input(\"\\nMasukan jari-jari dalam cm: \"))\n",
        "print(\"\\nPilih 1 untuk menghitung volume\\nPilih 2 untuk menghitung luas permukaan\")\n",
        "pilihan = input(\"\\nInput pilihan: \")\n",
        "phi = 3.14\n",
        "\n",
        "if pilihan == \"1\":\n",
        "  volume = 4/3 * phi * jari_jari**3\n",
        "  print(\"\\nVolume Bola adalah: \",volume, \"cm^3\")\n",
        "elif pilihan == \"2\":\n",
        "  luas_permukaan = 4 * phi * jari_jari**2\n",
        "  print(\"Luas Permukaan Bola adalah: \",luas_permukaan, \"cm^2\")\n",
        "else:\n",
        "  print(\"\\nMaaf, pilihan tidak tersedia\")\n",
        "\n",
        "print(\"\\nTerimakasih telah menggunakan program ini.\")"
      ],
      "execution_count": null,
      "outputs": []
    },
    {
      "cell_type": "code",
      "metadata": {
        "id": "ojWBIuADNMMA"
      },
      "source": [
        "# GUNAKAN KODE INI UNTUK PRAKTIK #\n",
        "\n",
        "print(\"SELAMAT DATANG DI PROGRAM\\nMENGHITUNG VOLUME & LUAS PERMUKAAN BOLA\")\n",
        "\n",
        "jari_jari = float(input(\"\\nMasukan jari-jari dalam cm: \"))\n",
        "print(\"\\nPilih 1 untuk menghitung volume\\nPilih 2 untuk menghitung luas permukaan\")\n",
        "pilihan = input(\"\\nInput pilihan: \")\n",
        "phi = 3.14\n",
        "\n",
        "if pilihan == \"1\":\n",
        "  volume = 4/3 * phi * jari_jari**3\n",
        "  print(\"\\nVolume Bola adalah: \",volume, \"cm^3\")\n",
        "elif pilihan == \"2\":\n",
        "  luas_permukaan = 4 * phi * jari_jari**2\n",
        "  print(\"Luas Permukaan Bola adalah: \",luas_permukaan, \"cm^2\")\n",
        "else:\n",
        "  print(\"\\nMaaf, pilihan tidak tersedia\")\n",
        "\n",
        "print(\"\\nTerimakasih telah menggunakan program ini.\")"
      ],
      "execution_count": null,
      "outputs": []
    },
    {
      "cell_type": "markdown",
      "metadata": {
        "id": "r3gqBCjWHdrz"
      },
      "source": [
        "Percabangan model 2"
      ]
    },
    {
      "cell_type": "code",
      "metadata": {
        "id": "8puMtwJhHf6r"
      },
      "source": [
        "print(\"SELAMAT DATANG DI PROGRAM\\nMENGHITUNG VOLUME & LUAS PERMUKAAN BOLA\")\n",
        "\n",
        "def hitung(jari_jari, pilihan):\n",
        "  phi = 3.14\n",
        "  if pilihan == \"1\":\n",
        "    volume = 4/3 * phi * jari_jari**3\n",
        "    print(\"\\nVolume Bola adalah: \",volume, \"cm^3\")\n",
        "  elif pilihan == \"2\":\n",
        "    luas_permukaan = 4 * phi * jari_jari**2\n",
        "    print(\"Luas Permukaan Bola adalah: \",luas_permukaan, \"cm^2\")\n",
        "  else:\n",
        "    print(\"\\nMaaf, pilihan tidak tersedia\")\n",
        "\n",
        "jari_jari = float(input(\"\\nMasukan jari-jari dalam cm: \"))\n",
        "print(\"\\nPilih 1 untuk menghitung volume\\nPilih 2 untuk menghitung luas permukaan\")\n",
        "pilihan = input(\"\\nInput pilihan: \")\n",
        "\n",
        "hitung(jari_jari, pilihan)\n",
        "\n",
        "print(\"\\nTerimakasih telah menggunakan program ini.\")"
      ],
      "execution_count": null,
      "outputs": []
    },
    {
      "cell_type": "code",
      "metadata": {
        "id": "bvGFEAVFNTtE"
      },
      "source": [
        "# GUNAKAN KODE INI UNTUK PRAKTIK #\n",
        "\n",
        "print(\"SELAMAT DATANG DI PROGRAM\\nMENGHITUNG VOLUME & LUAS PERMUKAAN BOLA\")\n",
        "\n",
        "def hitung(jari_jari, pilihan):\n",
        "  phi = 3.14\n",
        "  if pilihan == \"1\":\n",
        "    volume = 4/3 * phi * jari_jari**3\n",
        "    print(\"\\nVolume Bola adalah: \",volume, \"cm^3\")\n",
        "  elif pilihan == \"2\":\n",
        "    luas_permukaan = 4 * phi * jari_jari**2\n",
        "    print(\"Luas Permukaan Bola adalah: \",luas_permukaan, \"cm^2\")\n",
        "  else:\n",
        "    print(\"\\nMaaf, pilihan tidak tersedia\")\n",
        "\n",
        "jari_jari = float(input(\"\\nMasukan jari-jari dalam cm: \"))\n",
        "print(\"\\nPilih 1 untuk menghitung volume\\nPilih 2 untuk menghitung luas permukaan\")\n",
        "pilihan = input(\"\\nInput pilihan: \")\n",
        "\n",
        "hitung(jari_jari, pilihan)\n",
        "\n",
        "print(\"\\nTerimakasih telah menggunakan program ini.\")"
      ],
      "execution_count": null,
      "outputs": []
    },
    {
      "cell_type": "markdown",
      "metadata": {
        "id": "kucylcDJs3Z3"
      },
      "source": [
        "Perulangan model 1"
      ]
    },
    {
      "cell_type": "code",
      "metadata": {
        "id": "urle2pdps1rl"
      },
      "source": [
        "print(\"SELAMAT DATANG DI PROGRAM\\nMENGHITUNG VOLUME & LUAS PERMUKAAN BOLA\")\n",
        "\n",
        "def hitung():\n",
        "  jari_jari = float(input(\"\\nMasukan jari-jari dalam cm: \"))\n",
        "  print(\"\\nPilih 1 untuk menghitung volume\\nPilih 2 untuk menghitung luas permukaan\")\n",
        "  pilihan_kalkulasi = input(\"\\nInput pilihan: \")\n",
        "  phi = 3.14\n",
        "\n",
        "  if pilihan_kalkulasi == \"1\":\n",
        "    volume = 4/3 * phi * jari_jari**3\n",
        "    print(\"\\nVolume Bola adalah: \",volume, \"cm^3\")\n",
        "  elif pilihan_kalkulasi == \"2\":\n",
        "    luas_permukaan = 4 * phi * jari_jari**2\n",
        "    print(\"Luas Permukaan Bola adalah: \",luas_permukaan, \"cm^2\")\n",
        "  else:\n",
        "    print(\"\\nMaaf, pilihan tidak tersedia\")\n",
        "\n",
        "\n",
        "if __name__ == '__main__':\n",
        "  while True:\n",
        "    print(\"\\nPilih 1 untuk melanjutkan\\nPilih 2 untuk keluar\")\n",
        "    pilihan_IO = input(\"\\nInput pilihan: \")\n",
        "\n",
        "    if pilihan_IO == \"1\":\n",
        "      hitung()\n",
        "    elif pilihan_IO == \"2\":\n",
        "      break\n",
        "    else:\n",
        "      print(\"Pilihan tidak ada\")\n",
        "  \n",
        "\n",
        "print(\"\\nTerimakasih telah menggunakan program ini.\")"
      ],
      "execution_count": null,
      "outputs": []
    },
    {
      "cell_type": "code",
      "metadata": {
        "id": "g0zqj-O5NbEI"
      },
      "source": [
        "# GUNAKAN KODE INI UNTUK PRAKTIK #\n",
        "\n",
        "print(\"SELAMAT DATANG DI PROGRAM\\nMENGHITUNG VOLUME & LUAS PERMUKAAN BOLA\")\n",
        "\n",
        "def hitung():\n",
        "  jari_jari = float(input(\"\\nMasukan jari-jari dalam cm: \"))\n",
        "  print(\"\\nPilih 1 untuk menghitung volume\\nPilih 2 untuk menghitung luas permukaan\")\n",
        "  pilihan_kalkulasi = input(\"\\nInput pilihan: \")\n",
        "  phi = 3.14\n",
        "\n",
        "  if pilihan_kalkulasi == \"1\":\n",
        "    volume = 4/3 * phi * jari_jari**3\n",
        "    print(\"\\nVolume Bola adalah: \",volume, \"cm^3\")\n",
        "  elif pilihan_kalkulasi == \"2\":\n",
        "    luas_permukaan = 4 * phi * jari_jari**2\n",
        "    print(\"Luas Permukaan Bola adalah: \",luas_permukaan, \"cm^2\")\n",
        "  else:\n",
        "    print(\"\\nMaaf, pilihan tidak tersedia\")\n",
        "\n",
        "\n",
        "if __name__ == '__main__':\n",
        "  while True:\n",
        "    print(\"\\nPilih 1 untuk melanjutkan\\nPilih 2 untuk keluar\")\n",
        "    pilihan_IO = input(\"\\nInput pilihan: \")\n",
        "\n",
        "    if pilihan_IO == \"1\":\n",
        "      hitung()\n",
        "    elif pilihan_IO == \"2\":\n",
        "      break\n",
        "    else:\n",
        "      print(\"Pilihan tidak ada\")\n",
        "  \n",
        "\n",
        "print(\"\\nTerimakasih telah menggunakan program ini.\")"
      ],
      "execution_count": null,
      "outputs": []
    },
    {
      "cell_type": "markdown",
      "metadata": {
        "id": "YNN2ygltDDFn"
      },
      "source": [
        "Perulangan Model 2"
      ]
    },
    {
      "cell_type": "code",
      "metadata": {
        "id": "UO25Jg0b9g1N"
      },
      "source": [
        "print(\"SELAMAT DATANG DI PROGRAM\\nMENGHITUNG VOLUME & LUAS PERMUKAAN BOLA\")\n",
        "\n",
        "def hitung(jari_jari, pilihan_kalkulasi):\n",
        "  phi = 3.14\n",
        "\n",
        "  if pilihan_kalkulasi == \"1\":\n",
        "    volume = 4/3 * phi * jari_jari**3\n",
        "    print(\"\\nVolume Bola adalah: \",volume, \"cm^3\")\n",
        "  elif pilihan_kalkulasi == \"2\":\n",
        "    luas_permukaan = 4 * phi * jari_jari**2\n",
        "    print(\"Luas Permukaan Bola adalah: \",luas_permukaan, \"cm^2\")\n",
        "  else:\n",
        "    print(\"\\nMaaf, pilihan tidak tersedia\")\n",
        "\n",
        "\n",
        "if __name__ == '__main__':\n",
        "  while True:\n",
        "    print(\"\\nPilih 1 untuk melanjutkan\\nPilih 2 untuk keluar\")\n",
        "    pilihan_IO = input(\"\\nInput pilihan: \")\n",
        "\n",
        "    if pilihan_IO == \"1\":\n",
        "      jari_jari = float(input(\"\\nMasukan jari-jari dalam cm: \"))\n",
        "      print(\"\\nPilih 1 untuk menghitung volume\\nPilih 2 untuk menghitung luas permukaan\")\n",
        "      pilihan_kalkulasi = input(\"\\nInput pilihan: \")\n",
        "\n",
        "      hitung(jari_jari, pilihan_kalkulasi)\n",
        "\n",
        "    elif pilihan_IO == \"2\":\n",
        "      break\n",
        "    else:\n",
        "      print(\"Pilihan tidak ada\")\n",
        "  \n",
        "\n",
        "print(\"\\nTerimakasih telah menggunakan program ini.\")"
      ],
      "execution_count": null,
      "outputs": []
    },
    {
      "cell_type": "code",
      "metadata": {
        "id": "GCnyP1X_Ng9c"
      },
      "source": [
        "# GUNAKAN KODE INI UNTUK PRAKTIK #\n",
        "\n",
        "print(\"SELAMAT DATANG DI PROGRAM\\nMENGHITUNG VOLUME & LUAS PERMUKAAN BOLA\")\n",
        "\n",
        "def hitung(jari_jari, pilihan_kalkulasi):\n",
        "  phi = 3.14\n",
        "\n",
        "  if pilihan_kalkulasi == \"1\":\n",
        "    volume = 4/3 * phi * jari_jari**3\n",
        "    print(\"\\nVolume Bola adalah: \",volume, \"cm^3\")\n",
        "  elif pilihan_kalkulasi == \"2\":\n",
        "    luas_permukaan = 4 * phi * jari_jari**2\n",
        "    print(\"Luas Permukaan Bola adalah: \",luas_permukaan, \"cm^2\")\n",
        "  else:\n",
        "    print(\"\\nMaaf, pilihan tidak tersedia\")\n",
        "\n",
        "\n",
        "if __name__ == '__main__':\n",
        "  while True:\n",
        "    print(\"\\nPilih 1 untuk melanjutkan\\nPilih 2 untuk keluar\")\n",
        "    pilihan_IO = input(\"\\nInput pilihan: \")\n",
        "\n",
        "    if pilihan_IO == \"1\":\n",
        "      jari_jari = float(input(\"\\nMasukan jari-jari dalam cm: \"))\n",
        "      print(\"\\nPilih 1 untuk menghitung volume\\nPilih 2 untuk menghitung luas permukaan\")\n",
        "      pilihan_kalkulasi = input(\"\\nInput pilihan: \")\n",
        "\n",
        "      hitung(jari_jari, pilihan_kalkulasi)\n",
        "\n",
        "    elif pilihan_IO == \"2\":\n",
        "      break\n",
        "    else:\n",
        "      print(\"Pilihan tidak ada\")\n",
        "  \n",
        "\n",
        "print(\"\\nTerimakasih telah menggunakan program ini.\")"
      ],
      "execution_count": null,
      "outputs": []
    },
    {
      "cell_type": "code",
      "metadata": {
        "id": "e9yXCMVtypNC"
      },
      "source": [
        "# Membuat program fisika sederhana"
      ],
      "execution_count": null,
      "outputs": []
    },
    {
      "cell_type": "markdown",
      "metadata": {
        "id": "U83-q-xxy5Cw"
      },
      "source": [
        "Membuat Program Sederhana untuk Menyelesaikan Kasus Fisis (Fisika)"
      ]
    },
    {
      "cell_type": "code",
      "metadata": {
        "id": "N0ja7gKkzKw9"
      },
      "source": [
        "kecepatan_awal = 5 # m/s\n",
        "waktu = 2 # s\n",
        "percepatan = 10 # m/s2\n",
        "s = kecepatan_awal * waktu + 0.5 * percepatan*waktu**2\n",
        "print(s, 'm')"
      ],
      "execution_count": null,
      "outputs": []
    },
    {
      "cell_type": "code",
      "metadata": {
        "id": "FoRAF7_3zye_"
      },
      "source": [
        "kecepatan_awal = int(input('Masukkan kecepatan awal (dalam m/s) :')) \n",
        "waktu = int(input('Masukkan waktu tempuh (dalam detik) :'))\n",
        "percepatan = int(input('Masukkan percepatannya (dalam m/s2) :'))\n",
        "s = kecepatan_awal * waktu + 0.5 * percepatan*waktu**2\n",
        "print('Jarak yang ditempuh :',s, 'm')"
      ],
      "execution_count": null,
      "outputs": []
    },
    {
      "cell_type": "code",
      "metadata": {
        "id": "ry-rF46Gz1PG"
      },
      "source": [
        "# Praktek Membuat Program Sederhana\n",
        "### Gerak Lurus Berubah Beraturan"
      ],
      "execution_count": null,
      "outputs": []
    },
    {
      "cell_type": "code",
      "metadata": {
        "id": "POdyfLPnz492"
      },
      "source": [
        "def Jarak(kecepatan_awal, waktu_akhir, percepatan):\n",
        "    # Perhitungan jarak yang ditempuh setiap detiknya\n",
        "    f = open(\"data.txt\",'w')\n",
        "    waktu = 0\n",
        "    while waktu <=waktu_akhir:\n",
        "        s = kecepatan_awal * waktu + 0.5 * percepatan*waktu**2\n",
        "        #print(waktu,'{:0.2f}'.format(s))\n",
        "        f.write('{:0.0f} {:0.2f}\\n'.format(waktu, s))\n",
        "        waktu +=1\n",
        "    f.close()"
      ],
      "execution_count": null,
      "outputs": []
    },
    {
      "cell_type": "code",
      "metadata": {
        "id": "knvtJJjE0AP-"
      },
      "source": [
        "print(Jarak(1,20,10))"
      ],
      "execution_count": null,
      "outputs": []
    },
    {
      "cell_type": "code",
      "metadata": {
        "id": "D2ETElyX0EWN"
      },
      "source": [
        "from pylab import plot, show\n",
        "from numpy import loadtxt\n",
        "import matplotlib.pyplot as plt\n",
        "%matplotlib inline\n",
        "data = loadtxt('data.txt')\n",
        "x = data[:,0]\n",
        "y = data[:,1]\n",
        "plt.xlabel('Waktu dalam detik')\n",
        "plt.ylabel('Jarak')\n",
        "plt.title('Grafik Jarak terhadap Waktu GLBB')\n",
        "plot(x,y,'-b')\n",
        "show()"
      ],
      "execution_count": null,
      "outputs": []
    },
    {
      "cell_type": "code",
      "metadata": {
        "id": "e9Hx0fYEzSfx"
      },
      "source": [
        "kecepatan_awal = int(input('Masukkan kecepatan awal (dalam m/s) :')) \n",
        "waktu = int(input('Masukkan waktu tempuh (dalam detik) :'))\n",
        "percepatan = int(input('Masukkan percepatannya (dalam m/s2) :'))\n",
        "s = kecepatan_awal * waktu + 0.5 * percepatan*waktu**2\n",
        "print('Jarak yang ditempuh :',s, 'm')"
      ],
      "execution_count": null,
      "outputs": []
    },
    {
      "cell_type": "markdown",
      "metadata": {
        "id": "aKpUcOVszDbm"
      },
      "source": [
        ""
      ]
    }
  ]
}