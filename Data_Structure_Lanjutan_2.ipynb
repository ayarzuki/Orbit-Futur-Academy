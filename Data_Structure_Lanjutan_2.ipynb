{
  "nbformat": 4,
  "nbformat_minor": 0,
  "metadata": {
    "colab": {
      "name": "Data Structure - If Function.ipynb",
      "provenance": [],
      "collapsed_sections": [],
      "include_colab_link": true
    },
    "kernelspec": {
      "name": "python3",
      "display_name": "Python 3"
    },
    "language_info": {
      "name": "python"
    }
  },
  "cells": [
    {
      "cell_type": "markdown",
      "metadata": {
        "id": "view-in-github",
        "colab_type": "text"
      },
      "source": [
        "<a href=\"https://colab.research.google.com/github/ayarzuki/Orbit-Futur-Academy/blob/main/Data_Structure_Lanjutan_2.ipynb\" target=\"_parent\"><img src=\"https://colab.research.google.com/assets/colab-badge.svg\" alt=\"Open In Colab\"/></a>"
      ]
    },
    {
      "cell_type": "markdown",
      "metadata": {
        "id": "ZG4yrODOOoWt"
      },
      "source": [
        "# **LIST**\n",
        "\n",
        "---\n",
        "\n"
      ]
    },
    {
      "cell_type": "code",
      "metadata": {
        "id": "SfWGM9igKFjK",
        "outputId": "b5047a6b-0100-4129-8c17-7888ad1b9d74",
        "colab": {
          "base_uri": "https://localhost:8080/"
        }
      },
      "source": [
        "drink_list = ['milk', 'coffee', \"teh\", \"stmj\"]\n",
        "#tgl = [25, 7, 17, 4]\n",
        "print(type(drink_list), \"\\n\")\n",
        "\n",
        "print(\"Fungsi len\\t ->\", len(drink_list)) #len() method menghitung list\n",
        "print(\"Fungsi sorted\\t ->\", sorted(drink_list)) #sorted() method mengurutkan list\n",
        "print(\"Pilih index\\t ->\", drink_list[1]) #milih index"
      ],
      "execution_count": 1,
      "outputs": [
        {
          "output_type": "stream",
          "name": "stdout",
          "text": [
            "<class 'list'> \n",
            "\n",
            "Fungsi len\t -> 4\n",
            "Fungsi sorted\t -> ['coffee', 'milk', 'stmj', 'teh']\n",
            "Pilih index\t -> coffee\n"
          ]
        }
      ]
    },
    {
      "cell_type": "markdown",
      "metadata": {
        "id": "F1v74fpTOx5_"
      },
      "source": [
        "# **TUPLE**\n",
        "\n",
        "---\n",
        "\n"
      ]
    },
    {
      "cell_type": "code",
      "metadata": {
        "id": "8dtXBj7sNycs",
        "outputId": "50cd17b2-93f2-42f8-9ca0-14306dafdbac",
        "colab": {
          "base_uri": "https://localhost:8080/"
        }
      },
      "source": [
        "drink_list = ('milk', 'coffee', \"teh\", \"stmj\")\n",
        "single_tuple = ('susu',) #tuple dengan satu value diakhiri dengan koma\n",
        "list_minuman = 'milk', 'coffee', \"teh\", \"stmj\" #dapat tanpa tanda kurung\n",
        "\n",
        "print(type(drink_list), \"\\n\")\n",
        "\n",
        "print(drink_list)\n",
        "#drink_list[0] = \"Test\"\n",
        "print(drink_list)"
      ],
      "execution_count": 4,
      "outputs": [
        {
          "output_type": "stream",
          "name": "stdout",
          "text": [
            "<class 'tuple'> \n",
            "\n",
            "('milk', 'coffee', 'teh', 'stmj')\n",
            "('milk', 'coffee', 'teh', 'stmj')\n"
          ]
        }
      ]
    },
    {
      "cell_type": "markdown",
      "metadata": {
        "id": "Uz10MaQxPlJp"
      },
      "source": [
        "# **DICTIONARY**\n",
        "\n",
        "---\n",
        "\n"
      ]
    },
    {
      "cell_type": "code",
      "metadata": {
        "id": "9DePzPYjPpAL",
        "outputId": "7d75c7f4-8fc7-4fdd-9a11-683a1a8fd702",
        "colab": {
          "base_uri": "https://localhost:8080/"
        }
      },
      "source": [
        "student = {\n",
        "    'name': 'Muhammad Rifki Muchtar',\n",
        "    'age': 21,\n",
        "    'awesome': True,\n",
        "    'language': ['JS', 'Python', 'C'],\n",
        "    'favorites': {\n",
        "        'food': 'Indomie',\n",
        "        'sport': 'Swimming'\n",
        "    }\n",
        "}\n",
        "#print(sorted(student.items())) #-> fungsi mengurutkan key dict\n",
        "print(type(student), \"\\n\")\n",
        "\n",
        "name = student.get('name')\n",
        "print(name)\n",
        "\n",
        "hobby = student.get('favorites')['sport']\n",
        "print(hobby)\n",
        "\n",
        "address = student.get('address')\n",
        "print(address)\n",
        "\n",
        "#dengan menggunakan .get dan key tidak ditemukan akan mengembalikan \"none\"\n",
        "#jika menggunakan fungsi di bawah maka akan error\n",
        "\n",
        "#address = student['address'] \n",
        "#print(address)"
      ],
      "execution_count": 5,
      "outputs": [
        {
          "output_type": "stream",
          "name": "stdout",
          "text": [
            "<class 'dict'> \n",
            "\n",
            "Muhammad Rifki Muchtar\n",
            "Swimming\n",
            "None\n"
          ]
        }
      ]
    },
    {
      "cell_type": "markdown",
      "metadata": {
        "id": "LExoxbHRQqpv"
      },
      "source": [
        "# **SET**\n",
        "\n",
        "---\n",
        "\n"
      ]
    },
    {
      "cell_type": "code",
      "metadata": {
        "id": "4ZJvtPoqQtE-",
        "colab": {
          "base_uri": "https://localhost:8080/"
        },
        "outputId": "fdf55162-2d98-434f-cb37-0d1844c9cd6c"
      },
      "source": [
        "my_set = {1, 2, 3, 4}\n",
        "my_set_2 = {3, 4, 5, 6}\n",
        "\n",
        "print(type(my_set), ' - ', type(my_set_2), \"\\n\")\n",
        "\n",
        "print(my_set.union(my_set_2), '----------', my_set | my_set_2)\n",
        "print(my_set.intersection(my_set_2), '----------', my_set & my_set_2)\n",
        "print(my_set.difference(my_set_2), '----------', my_set - my_set_2)\n",
        "print(my_set.symmetric_difference(my_set_2), '----------', my_set ^ my_set_2)\n",
        "my_set.clear()\n",
        "print(my_set)"
      ],
      "execution_count": 6,
      "outputs": [
        {
          "output_type": "stream",
          "name": "stdout",
          "text": [
            "<class 'set'>  -  <class 'set'> \n",
            "\n",
            "{1, 2, 3, 4, 5, 6} ---------- {1, 2, 3, 4, 5, 6}\n",
            "{3, 4} ---------- {3, 4}\n",
            "{1, 2} ---------- {1, 2}\n",
            "{1, 2, 5, 6} ---------- {1, 2, 5, 6}\n",
            "set()\n"
          ]
        }
      ]
    },
    {
      "cell_type": "markdown",
      "metadata": {
        "id": "yxWX0FPtkPrA"
      },
      "source": [
        "Konversi Tuple ke Set"
      ]
    },
    {
      "cell_type": "code",
      "metadata": {
        "colab": {
          "base_uri": "https://localhost:8080/"
        },
        "id": "S4PUzGoakAqG",
        "outputId": "81ed7fce-a661-4a5c-903b-c2973a44a6ce"
      },
      "source": [
        "print(type(single_tuple))\n",
        "\n",
        "set_single_tuple = set(single_tuple)\n",
        "print(type(set_single_tuple))"
      ],
      "execution_count": 7,
      "outputs": [
        {
          "output_type": "stream",
          "name": "stdout",
          "text": [
            "<class 'tuple'>\n",
            "<class 'set'>\n"
          ]
        }
      ]
    },
    {
      "cell_type": "markdown",
      "metadata": {
        "id": "B9XE1kCRXWHu"
      },
      "source": [
        "# **Pengondisian**\n",
        "\n",
        "---\n",
        "Bentuk umum if, elif, dan else\n",
        "\n",
        "```\n",
        "if(Condition1):\n",
        "      Indented statement block for Condition1\n",
        "elif(Condition2):\n",
        "       Indented statement block for Condition2\n",
        "else:\n",
        "       Alternate statement block if all condition check above fails\n",
        "```\n",
        "\n"
      ]
    },
    {
      "cell_type": "markdown",
      "metadata": {
        "id": "bPt3UNS7aQP6"
      },
      "source": [
        "Algoritma tahun kabisat: \n",
        "\n",
        "1.   Jika angka tahun itu habis dibagi 400, maka tahun itu sudah pasti tahun kabisat.\n",
        "2.   Jika angka tahun itu tidak habis dibagi 400 tetapi habis dibagi 100, maka tahun itu sudah pasti bukan merupakan tahun kabisat.\n",
        "3.   Jika angka tahun itu tidak habis dibagi 400, tidak habis dibagi 100 akan tetapi habis dibagi 4, maka tahun itu merupakan tahun kabisat.\n",
        "4.   Jika angka tahun tidak habis dibagi 400, tidak habis dibagi 100, dan tidak habis dibagi 4, maka tahun tersebut bukan merupakan tahun kabisat."
      ]
    },
    {
      "cell_type": "code",
      "metadata": {
        "id": "3ak7ijenXS6A",
        "colab": {
          "base_uri": "https://localhost:8080/"
        },
        "outputId": "6f042060-7562-4915-c6fe-c866d371e1aa"
      },
      "source": [
        "tahun = int(input(\"Input tahun: \"))\n",
        "\n",
        "if (tahun % 4) == 0:\n",
        "    if (tahun % 100) == 0:\n",
        "        if (tahun % 400) == 0:\n",
        "            print(\"Tahun Kabisat\")\n",
        "        else:\n",
        "            print(\"Bukan Tahun Kabisat\")\n",
        "    else:\n",
        "        print(\"Tahun Kabisat\")\n",
        "else:\n",
        "    print(\"Bukan Tahun Kabisat\")"
      ],
      "execution_count": null,
      "outputs": [
        {
          "output_type": "stream",
          "name": "stdout",
          "text": [
            "Input tahun: 2020\n",
            "Tahun Kabisat\n"
          ]
        }
      ]
    },
    {
      "cell_type": "code",
      "metadata": {
        "id": "Q6ro4cWhcAsj",
        "outputId": "97ff4082-ab3e-476a-a619-f4ddb43da58b",
        "colab": {
          "base_uri": "https://localhost:8080/"
        }
      },
      "source": [
        "x = int(input(\"Input tahun: \"))\n",
        "print(x)"
      ],
      "execution_count": 8,
      "outputs": [
        {
          "output_type": "stream",
          "name": "stdout",
          "text": [
            "Input tahun: 20\n",
            "20\n"
          ]
        }
      ]
    },
    {
      "cell_type": "code",
      "metadata": {
        "id": "qzVaMVF6cNat",
        "outputId": "1dd4128a-17ff-458e-f653-7a898fca0548",
        "colab": {
          "base_uri": "https://localhost:8080/"
        }
      },
      "source": [
        "type(x)"
      ],
      "execution_count": 9,
      "outputs": [
        {
          "output_type": "execute_result",
          "data": {
            "text/plain": [
              "int"
            ]
          },
          "metadata": {},
          "execution_count": 9
        }
      ]
    },
    {
      "cell_type": "markdown",
      "metadata": {
        "id": "yXJEA8DMlyWY"
      },
      "source": [
        "Mencari nilai pada List"
      ]
    },
    {
      "cell_type": "code",
      "metadata": {
        "id": "SWQGkDU4ldJU",
        "colab": {
          "base_uri": "https://localhost:8080/"
        },
        "outputId": "312c34bf-bb3f-4ee2-afef-e6181bc69b5a"
      },
      "source": [
        "drink_list = ['milk', 'coffee', \"teh\", \"stmj\"]\n",
        "'coffee' in drink_list "
      ],
      "execution_count": null,
      "outputs": [
        {
          "output_type": "execute_result",
          "data": {
            "text/plain": [
              "True"
            ]
          },
          "metadata": {},
          "execution_count": 30
        }
      ]
    },
    {
      "cell_type": "markdown",
      "metadata": {
        "id": "PuFEU-Pfl6Jr"
      },
      "source": [
        "Penerapan Break, Continue, dan Pass"
      ]
    },
    {
      "cell_type": "code",
      "metadata": {
        "id": "X7pcFulAdPJs",
        "colab": {
          "base_uri": "https://localhost:8080/"
        },
        "outputId": "4cbb5220-809d-4efb-8f9f-f58fb2310ed2"
      },
      "source": [
        "for i in range(1,11):\n",
        "  if i == 3:\n",
        "    #break\n",
        "    #continue\n",
        "    #pass\n",
        "  print(i,' x ',i ,' = ',i*i)"
      ],
      "execution_count": null,
      "outputs": [
        {
          "output_type": "stream",
          "name": "stdout",
          "text": [
            "1  x  1  =  1\n",
            "2  x  2  =  4\n",
            "3  x  3  =  9\n",
            "4  x  4  =  16\n",
            "5  x  5  =  25\n",
            "6  x  6  =  36\n",
            "7  x  7  =  49\n",
            "8  x  8  =  64\n",
            "9  x  9  =  81\n",
            "10  x  10  =  100\n"
          ]
        }
      ]
    },
    {
      "cell_type": "markdown",
      "metadata": {
        "id": "_oAGk-Om5FLn"
      },
      "source": [
        "Bonus, looping menggunakan if dan def"
      ]
    },
    {
      "cell_type": "code",
      "metadata": {
        "colab": {
          "base_uri": "https://localhost:8080/"
        },
        "id": "8wXzTiy43SnV",
        "outputId": "63193e58-9577-4761-ab80-9791d967e952"
      },
      "source": [
        "i = 0\n",
        "\n",
        "def loop(cond):\n",
        "  if(cond<=10):\n",
        "    print(cond)\n",
        "    cond += 1\n",
        "    loop(cond)\n",
        "\n",
        "loop(i)"
      ],
      "execution_count": null,
      "outputs": [
        {
          "output_type": "stream",
          "name": "stdout",
          "text": [
            "0\n",
            "1\n",
            "2\n",
            "3\n",
            "4\n",
            "5\n",
            "6\n",
            "7\n",
            "8\n",
            "9\n",
            "10\n"
          ]
        }
      ]
    },
    {
      "cell_type": "code",
      "metadata": {
        "colab": {
          "base_uri": "https://localhost:8080/",
          "height": 142
        },
        "id": "TZdDofhfQ2Xn",
        "outputId": "1d0d32a0-748b-4778-d3b7-a8319515855b"
      },
      "source": [
        "import pandas as pd\n",
        "data = {'Country': ['Belgium', 'India', 'Brazil'], 'Capital': ['Brussels', 'New Delhi', 'Brasília'], 'Population': [11190846, 1303171035, 207847528]}\n",
        "df = pd.DataFrame(data, columns=['Country', 'Capital', 'Population'])\n",
        "df"
      ],
      "execution_count": null,
      "outputs": [
        {
          "output_type": "execute_result",
          "data": {
            "text/html": [
              "<div>\n",
              "<style scoped>\n",
              "    .dataframe tbody tr th:only-of-type {\n",
              "        vertical-align: middle;\n",
              "    }\n",
              "\n",
              "    .dataframe tbody tr th {\n",
              "        vertical-align: top;\n",
              "    }\n",
              "\n",
              "    .dataframe thead th {\n",
              "        text-align: right;\n",
              "    }\n",
              "</style>\n",
              "<table border=\"1\" class=\"dataframe\">\n",
              "  <thead>\n",
              "    <tr style=\"text-align: right;\">\n",
              "      <th></th>\n",
              "      <th>Country</th>\n",
              "      <th>Capital</th>\n",
              "      <th>Population</th>\n",
              "    </tr>\n",
              "  </thead>\n",
              "  <tbody>\n",
              "    <tr>\n",
              "      <th>0</th>\n",
              "      <td>Belgium</td>\n",
              "      <td>Brussels</td>\n",
              "      <td>11190846</td>\n",
              "    </tr>\n",
              "    <tr>\n",
              "      <th>1</th>\n",
              "      <td>India</td>\n",
              "      <td>New Delhi</td>\n",
              "      <td>1303171035</td>\n",
              "    </tr>\n",
              "    <tr>\n",
              "      <th>2</th>\n",
              "      <td>Brazil</td>\n",
              "      <td>Brasília</td>\n",
              "      <td>207847528</td>\n",
              "    </tr>\n",
              "  </tbody>\n",
              "</table>\n",
              "</div>"
            ],
            "text/plain": [
              "   Country    Capital  Population\n",
              "0  Belgium   Brussels    11190846\n",
              "1    India  New Delhi  1303171035\n",
              "2   Brazil   Brasília   207847528"
            ]
          },
          "metadata": {},
          "execution_count": 43
        }
      ]
    },
    {
      "cell_type": "code",
      "metadata": {
        "id": "HhITc_lARFGt",
        "colab": {
          "base_uri": "https://localhost:8080/",
          "height": 111
        },
        "outputId": "6ae7d91e-5e7d-4c59-eb6b-48c0088fefe6"
      },
      "source": [
        "df.iloc[:2,:3]"
      ],
      "execution_count": null,
      "outputs": [
        {
          "output_type": "execute_result",
          "data": {
            "text/html": [
              "<div>\n",
              "<style scoped>\n",
              "    .dataframe tbody tr th:only-of-type {\n",
              "        vertical-align: middle;\n",
              "    }\n",
              "\n",
              "    .dataframe tbody tr th {\n",
              "        vertical-align: top;\n",
              "    }\n",
              "\n",
              "    .dataframe thead th {\n",
              "        text-align: right;\n",
              "    }\n",
              "</style>\n",
              "<table border=\"1\" class=\"dataframe\">\n",
              "  <thead>\n",
              "    <tr style=\"text-align: right;\">\n",
              "      <th></th>\n",
              "      <th>Country</th>\n",
              "      <th>Capital</th>\n",
              "      <th>Population</th>\n",
              "    </tr>\n",
              "  </thead>\n",
              "  <tbody>\n",
              "    <tr>\n",
              "      <th>0</th>\n",
              "      <td>Belgium</td>\n",
              "      <td>Brussels</td>\n",
              "      <td>11190846</td>\n",
              "    </tr>\n",
              "    <tr>\n",
              "      <th>1</th>\n",
              "      <td>India</td>\n",
              "      <td>New Delhi</td>\n",
              "      <td>1303171035</td>\n",
              "    </tr>\n",
              "  </tbody>\n",
              "</table>\n",
              "</div>"
            ],
            "text/plain": [
              "   Country    Capital  Population\n",
              "0  Belgium   Brussels    11190846\n",
              "1    India  New Delhi  1303171035"
            ]
          },
          "metadata": {},
          "execution_count": 44
        }
      ]
    },
    {
      "cell_type": "code",
      "metadata": {
        "id": "75afQjz7S1wB",
        "colab": {
          "base_uri": "https://localhost:8080/"
        },
        "outputId": "34af258a-04ca-41a1-ea94-d1c40da6d983"
      },
      "source": [
        "# Function to convert number into string\n",
        "# Switcher is dictionary data type here\n",
        "def numbers_to_strings(argument):\n",
        "    switcher = {\n",
        "        0: \"zero\",\n",
        "        1: \"one\",\n",
        "        2: \"two\",\n",
        "    }\n",
        " \n",
        "    # get() method of dictionary data type returns\n",
        "    # value of passed argument if it is present\n",
        "    # in dictionary otherwise second argument will\n",
        "    # be assigned as default value of passed argument\n",
        "    return switcher.get(argument, \"nothing\")\n",
        " \n",
        "# Driver program\n",
        "if __name__ == \"__main__\":\n",
        "    argument=2\n",
        "    print (numbers_to_strings(argument))"
      ],
      "execution_count": 8,
      "outputs": [
        {
          "output_type": "stream",
          "name": "stdout",
          "text": [
            "two\n"
          ]
        }
      ]
    }
  ]
}